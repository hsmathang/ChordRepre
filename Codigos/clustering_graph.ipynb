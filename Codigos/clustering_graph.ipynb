{
 "cells": [
  {
   "cell_type": "code",
   "execution_count": null,
   "metadata": {
    "colab": {
     "base_uri": "https://localhost:8080/"
    },
    "id": "N1ITC08IPlM2",
    "outputId": "3be4061b-5133-49a6-cff2-e08058fa3e63"
   },
   "outputs": [
    {
     "name": "stdout",
     "output_type": "stream",
     "text": [
      "Requirement already satisfied: scikit-learn in /usr/local/lib/python3.10/dist-packages (1.2.2)\n",
      "Requirement already satisfied: numpy>=1.17.3 in /usr/local/lib/python3.10/dist-packages (from scikit-learn) (1.23.5)\n",
      "Requirement already satisfied: scipy>=1.3.2 in /usr/local/lib/python3.10/dist-packages (from scikit-learn) (1.11.4)\n",
      "Requirement already satisfied: joblib>=1.1.1 in /usr/local/lib/python3.10/dist-packages (from scikit-learn) (1.3.2)\n",
      "Requirement already satisfied: threadpoolctl>=2.0.0 in /usr/local/lib/python3.10/dist-packages (from scikit-learn) (3.2.0)\n",
      "Requirement already satisfied: ipywidgets in /usr/local/lib/python3.10/dist-packages (7.7.1)\n",
      "Collecting ipywidgets\n",
      "  Downloading ipywidgets-8.1.1-py3-none-any.whl (139 kB)\n",
      "\u001b[2K     \u001b[90m━━━━━━━━━━━━━━━━━━━━━━━━━━━━━━━━━━━━━━━━\u001b[0m \u001b[32m139.4/139.4 kB\u001b[0m \u001b[31m2.6 MB/s\u001b[0m eta \u001b[36m0:00:00\u001b[0m\n",
      "\u001b[?25hCollecting comm>=0.1.3 (from ipywidgets)\n",
      "  Downloading comm-0.2.1-py3-none-any.whl (7.2 kB)\n",
      "Requirement already satisfied: ipython>=6.1.0 in /usr/local/lib/python3.10/dist-packages (from ipywidgets) (7.34.0)\n",
      "Requirement already satisfied: traitlets>=4.3.1 in /usr/local/lib/python3.10/dist-packages (from ipywidgets) (5.7.1)\n",
      "Collecting widgetsnbextension~=4.0.9 (from ipywidgets)\n",
      "  Downloading widgetsnbextension-4.0.9-py3-none-any.whl (2.3 MB)\n",
      "\u001b[2K     \u001b[90m━━━━━━━━━━━━━━━━━━━━━━━━━━━━━━━━━━━━━━━━\u001b[0m \u001b[32m2.3/2.3 MB\u001b[0m \u001b[31m13.4 MB/s\u001b[0m eta \u001b[36m0:00:00\u001b[0m\n",
      "\u001b[?25hRequirement already satisfied: jupyterlab-widgets~=3.0.9 in /usr/local/lib/python3.10/dist-packages (from ipywidgets) (3.0.9)\n",
      "Requirement already satisfied: setuptools>=18.5 in /usr/local/lib/python3.10/dist-packages (from ipython>=6.1.0->ipywidgets) (67.7.2)\n",
      "Collecting jedi>=0.16 (from ipython>=6.1.0->ipywidgets)\n",
      "  Downloading jedi-0.19.1-py2.py3-none-any.whl (1.6 MB)\n",
      "\u001b[2K     \u001b[90m━━━━━━━━━━━━━━━━━━━━━━━━━━━━━━━━━━━━━━━━\u001b[0m \u001b[32m1.6/1.6 MB\u001b[0m \u001b[31m18.3 MB/s\u001b[0m eta \u001b[36m0:00:00\u001b[0m\n",
      "\u001b[?25hRequirement already satisfied: decorator in /usr/local/lib/python3.10/dist-packages (from ipython>=6.1.0->ipywidgets) (4.4.2)\n",
      "Requirement already satisfied: pickleshare in /usr/local/lib/python3.10/dist-packages (from ipython>=6.1.0->ipywidgets) (0.7.5)\n",
      "Requirement already satisfied: prompt-toolkit!=3.0.0,!=3.0.1,<3.1.0,>=2.0.0 in /usr/local/lib/python3.10/dist-packages (from ipython>=6.1.0->ipywidgets) (3.0.43)\n",
      "Requirement already satisfied: pygments in /usr/local/lib/python3.10/dist-packages (from ipython>=6.1.0->ipywidgets) (2.16.1)\n",
      "Requirement already satisfied: backcall in /usr/local/lib/python3.10/dist-packages (from ipython>=6.1.0->ipywidgets) (0.2.0)\n",
      "Requirement already satisfied: matplotlib-inline in /usr/local/lib/python3.10/dist-packages (from ipython>=6.1.0->ipywidgets) (0.1.6)\n",
      "Requirement already satisfied: pexpect>4.3 in /usr/local/lib/python3.10/dist-packages (from ipython>=6.1.0->ipywidgets) (4.9.0)\n",
      "Requirement already satisfied: parso<0.9.0,>=0.8.3 in /usr/local/lib/python3.10/dist-packages (from jedi>=0.16->ipython>=6.1.0->ipywidgets) (0.8.3)\n",
      "Requirement already satisfied: ptyprocess>=0.5 in /usr/local/lib/python3.10/dist-packages (from pexpect>4.3->ipython>=6.1.0->ipywidgets) (0.7.0)\n",
      "Requirement already satisfied: wcwidth in /usr/local/lib/python3.10/dist-packages (from prompt-toolkit!=3.0.0,!=3.0.1,<3.1.0,>=2.0.0->ipython>=6.1.0->ipywidgets) (0.2.13)\n",
      "Installing collected packages: widgetsnbextension, jedi, comm, ipywidgets\n",
      "  Attempting uninstall: widgetsnbextension\n",
      "    Found existing installation: widgetsnbextension 3.6.6\n",
      "    Uninstalling widgetsnbextension-3.6.6:\n",
      "      Successfully uninstalled widgetsnbextension-3.6.6\n",
      "  Attempting uninstall: ipywidgets\n",
      "    Found existing installation: ipywidgets 7.7.1\n",
      "    Uninstalling ipywidgets-7.7.1:\n",
      "      Successfully uninstalled ipywidgets-7.7.1\n",
      "Successfully installed comm-0.2.1 ipywidgets-8.1.1 jedi-0.19.1 widgetsnbextension-4.0.9\n"
     ]
    }
   ],
   "source": [
    "!pip install scikit-learn\n",
    "\n",
    "\n",
    "import pickle\n",
    "import json\n",
    "import matplotlib.pyplot as plt\n",
    "from sklearn.manifold import MDS\n",
    "\n",
    "import plotly.graph_objects as go\n",
    "\n",
    "!pip install ipywidgets --upgrade\n",
    "\n",
    "\n",
    "import os\n",
    "import ipywidgets as widgets\n",
    "from IPython.display import display\n",
    "import numpy as np\n",
    "import ipywidgets as widgets"
   ]
  },
  {
   "cell_type": "code",
   "execution_count": null,
   "metadata": {
    "colab": {
     "base_uri": "https://localhost:8080/",
     "height": 162,
     "referenced_widgets": [
      "4c6594afb5eb4dd6be8719610f431f18",
      "db8d976dc70c42e6955e15373fab23d6",
      "03e8f319f4ee45b0bc895928e82460d5",
      "02c4758596b742b6a91ed5d66f02769d",
      "ccfbcfa4900e4dc285f659072c710d87",
      "13ae636609e94d8f967c3949064c5cc6",
      "675ba928202a49f1a7500c249a2eda51",
      "196be3d401ff4b82a001c11dbc2250eb",
      "a72ca08715f94fe0aefb23e0b1bd7511",
      "e3b60f93b5234c858dffdfb5e74bf63a",
      "bc3865e6cde54e99be6709f1d7b6c7a5",
      "30feb51d1fdc42029cff1de942c133d7"
     ]
    },
    "id": "uJWMgOQ_Py5d",
    "outputId": "87f4110e-68d3-42c4-e14c-621fa3dd888e"
   },
   "outputs": [
    {
     "data": {
      "application/vnd.jupyter.widget-view+json": {
       "model_id": "4c6594afb5eb4dd6be8719610f431f18",
       "version_major": 2,
       "version_minor": 0
      },
      "text/plain": [
       "Dropdown(description='Carpeta:', options=('Experimento PC set - Escala Mayor - Octava 5 - Intervalos 2',), val…"
      ]
     },
     "metadata": {},
     "output_type": "display_data"
    },
    {
     "data": {
      "application/vnd.jupyter.widget-view+json": {
       "model_id": "02c4758596b742b6a91ed5d66f02769d",
       "version_major": 2,
       "version_minor": 0
      },
      "text/plain": [
       "Button(description='Refrescar archivos', style=ButtonStyle())"
      ]
     },
     "metadata": {},
     "output_type": "display_data"
    },
    {
     "data": {
      "application/vnd.jupyter.widget-view+json": {
       "model_id": "675ba928202a49f1a7500c249a2eda51",
       "version_major": 2,
       "version_minor": 0
      },
      "text/plain": [
       "Dropdown(description='Archivo:', disabled=True, options=(), value=None)"
      ]
     },
     "metadata": {},
     "output_type": "display_data"
    },
    {
     "data": {
      "application/vnd.jupyter.widget-view+json": {
       "model_id": "e3b60f93b5234c858dffdfb5e74bf63a",
       "version_major": 2,
       "version_minor": 0
      },
      "text/plain": [
       "Button(description='Cargar datos', style=ButtonStyle())"
      ]
     },
     "metadata": {},
     "output_type": "display_data"
    },
    {
     "name": "stdout",
     "output_type": "stream",
     "text": [
      "Datos cargados desde /content/drive/MyDrive/2023/Trabajo de Grado/DATA/Experimento PC set - Escala Mayor - Octava 5 - Intervalos 2/experiment_data_rahn_normal_order.pkl\n"
     ]
    }
   ],
   "source": [
    "import os\n",
    "import pickle\n",
    "import ipywidgets as widgets\n",
    "from IPython.display import display\n",
    "\n",
    "# Define un diccionario para almacenar los datos cargados de manera global\n",
    "global_loaded_data = {}\n",
    "\n",
    "def load_experiment_data(base_path='/content/drive/MyDrive/2023/Trabajo de Grado/DATA'):\n",
    "    global global_loaded_data\n",
    "\n",
    "    folders = [folder for folder in os.listdir(base_path) if os.path.isdir(os.path.join(base_path, folder))]\n",
    "    folder_selector = widgets.Dropdown(\n",
    "        options=folders,\n",
    "        description='Carpeta:',\n",
    "        disabled=False,\n",
    "    )\n",
    "\n",
    "    file_selector = widgets.Dropdown(\n",
    "        options=[],\n",
    "        description='Archivo:',\n",
    "        disabled=True,\n",
    "    )\n",
    "\n",
    "    refresh_button = widgets.Button(description=\"Refrescar archivos\")\n",
    "    load_button = widgets.Button(description=\"Cargar datos\")\n",
    "    display(folder_selector, refresh_button, file_selector, load_button)\n",
    "\n",
    "    def on_refresh_button_clicked(b):\n",
    "        folder_path = os.path.join(base_path, folder_selector.value)\n",
    "        if os.path.exists(folder_path):\n",
    "            pkl_files = [f for f in os.listdir(folder_path) if f.endswith('.pkl')]\n",
    "            file_selector.options = pkl_files\n",
    "            file_selector.disabled = False if pkl_files else True\n",
    "        else:\n",
    "            print(f\"La carpeta seleccionada no existe: {folder_path}\")\n",
    "\n",
    "    def on_load_button_clicked(b):\n",
    "        selected_folder = folder_selector.value\n",
    "        selected_file = file_selector.value\n",
    "\n",
    "        if not selected_folder or not selected_file:\n",
    "            print(\"Por favor, seleccione una carpeta y un archivo.\")\n",
    "            return\n",
    "\n",
    "        file_path = os.path.join(base_path, selected_folder, selected_file)\n",
    "        try:\n",
    "            with open(file_path, 'rb') as f:\n",
    "                experiment_data = pickle.load(f)\n",
    "            global_loaded_data['experiment_data'] = experiment_data\n",
    "            print(f\"Datos cargados desde {file_path}\")\n",
    "        except Exception as e:\n",
    "            print(f\"Error al cargar el archivo: {e}\")\n",
    "\n",
    "    refresh_button.on_click(on_refresh_button_clicked)\n",
    "    load_button.on_click(on_load_button_clicked)\n",
    "\n",
    "# Llamamos a la función para configurar la interfaz de carga de archivos .pkl\n",
    "load_experiment_data()\n",
    "\n",
    "# Función para verificar el contenido de global_loaded_data después de cargar los datos\n",
    "def check_experiment_data():\n",
    "    if 'experiment_data' in global_loaded_data:\n",
    "        print(\"experiment_data está definida y contiene:\")\n",
    "        print(global_loaded_data['experiment_data'])\n",
    "    else:\n",
    "        print(\"experiment_data no está definida.\")\n",
    "\n",
    "# Puedes llamar a check_experiment_data después de cargar los datos para verificar.\n"
   ]
  },
  {
   "cell_type": "code",
   "execution_count": null,
   "metadata": {
    "colab": {
     "base_uri": "https://localhost:8080/"
    },
    "id": "uDV9mqZ-SpX3",
    "outputId": "720adae4-1175-490b-8f8b-beca022b364e"
   },
   "outputs": [
    {
     "name": "stdout",
     "output_type": "stream",
     "text": [
      "experiment_data está definida y contiene:\n",
      "{'experiment_name': 'Experimento PC set - Escala Mayor', 'experiment_params': {'scale': {'name': 'Escala Mayor', 'root': 0, 'intervals': [0, 2, 4, 5, 7, 9, 11]}, 'octaves': [5], 'sizes': [2], 'intervals': [2]}, 'chords': [{'octave': 5, 'root': 0, 'intervals': [4, 3]}, {'octave': 5, 'root': 2, 'intervals': [3, 4]}, {'octave': 5, 'root': 4, 'intervals': [3, 4]}, {'octave': 5, 'root': 5, 'intervals': [4, 3]}, {'octave': 5, 'root': 7, 'intervals': [4, 3]}, {'octave': 5, 'root': 9, 'intervals': [3, 4]}, {'octave': 5, 'root': 11, 'intervals': [3, 3]}], 'results': {'chord_0': {'chord': {'octave': 5, 'root': 0, 'intervals': [4, 3]}, 'feature_vector': [0, 4, 7, 0, 0, 1, 1, 0, 0, 1, 0, 0, 0, 0], 'chord_id': 'chord_0'}, 'chord_1': {'chord': {'octave': 5, 'root': 2, 'intervals': [3, 4]}, 'feature_vector': [9, 2, 5, 0, 0, 1, 1, 0, 0, 1, 0, 0, 0, 0], 'chord_id': 'chord_1'}, 'chord_2': {'chord': {'octave': 5, 'root': 4, 'intervals': [3, 4]}, 'feature_vector': [11, 4, 7, 0, 0, 1, 1, 0, 0, 1, 0, 0, 0, 0], 'chord_id': 'chord_2'}, 'chord_3': {'chord': {'octave': 5, 'root': 5, 'intervals': [4, 3]}, 'feature_vector': [0, 9, 5, 0, 0, 1, 1, 0, 0, 1, 0, 0, 0, 0], 'chord_id': 'chord_3'}, 'chord_4': {'chord': {'octave': 5, 'root': 7, 'intervals': [4, 3]}, 'feature_vector': [2, 11, 7, 0, 0, 1, 1, 0, 0, 1, 0, 0, 0, 0], 'chord_id': 'chord_4'}, 'chord_5': {'chord': {'octave': 5, 'root': 9, 'intervals': [3, 4]}, 'feature_vector': [0, 9, 4, 0, 0, 1, 1, 0, 0, 1, 0, 0, 0, 0], 'chord_id': 'chord_5'}, 'chord_6': {'chord': {'octave': 5, 'root': 11, 'intervals': [3, 3]}, 'feature_vector': [2, 11, 5, 0, 0, 2, 0, 0, 1, 0, 0, 0, 0, 0], 'chord_id': 'chord_6'}}}\n"
     ]
    }
   ],
   "source": [
    "# Puedes llamar a esta función después de cargar los datos para verificar si 'experiment_data' se ha definido correctamente.\n",
    "check_experiment_data()"
   ]
  },
  {
   "cell_type": "code",
   "execution_count": null,
   "metadata": {
    "id": "ujPukw6xQGE9"
   },
   "outputs": [],
   "source": [
    "# Extraer los vectores de características y los identificadores del diccionario\n",
    "experiment_data=global_loaded_data['experiment_data']\n",
    "results = global_loaded_data['experiment_data']['results']\n",
    "vector_encoding = [results[chord_id]['feature_vector'] for chord_id in results]\n",
    "chord_ids = list(results.keys())\n"
   ]
  },
  {
   "cell_type": "code",
   "execution_count": null,
   "metadata": {
    "colab": {
     "base_uri": "https://localhost:8080/"
    },
    "id": "g7xsOmNCQPgv",
    "outputId": "625fe8a7-7e34-4c08-a3b3-6ff2d70f11f6"
   },
   "outputs": [
    {
     "name": "stdout",
     "output_type": "stream",
     "text": [
      "[[0, 4, 7, 0, 0, 1, 1, 0, 0, 1, 0, 0, 0, 0], [9, 2, 5, 0, 0, 1, 1, 0, 0, 1, 0, 0, 0, 0], [11, 4, 7, 0, 0, 1, 1, 0, 0, 1, 0, 0, 0, 0], [0, 9, 5, 0, 0, 1, 1, 0, 0, 1, 0, 0, 0, 0], [2, 11, 7, 0, 0, 1, 1, 0, 0, 1, 0, 0, 0, 0], [0, 9, 4, 0, 0, 1, 1, 0, 0, 1, 0, 0, 0, 0], [2, 11, 5, 0, 0, 2, 0, 0, 1, 0, 0, 0, 0, 0]]\n"
     ]
    }
   ],
   "source": [
    "print(vector_encoding)\n",
    "\n",
    "vector_ordenado=[v for v in vector_encoding]\n",
    "\n",
    "\n",
    "#print(vector_ordenado)\n",
    "\n"
   ]
  },
  {
   "cell_type": "code",
   "execution_count": null,
   "metadata": {
    "id": "FEWgtjF0QTgH"
   },
   "outputs": [],
   "source": [
    "# Función para realizar MDS y devolver los resultados en 2D\n",
    "def perform_mds(data, n_components=2):\n",
    "    mds = MDS(n_components=n_components)\n",
    "    return mds.fit_transform(data)"
   ]
  },
  {
   "cell_type": "code",
   "execution_count": null,
   "metadata": {
    "id": "jk1US2Z2Qbsg"
   },
   "outputs": [],
   "source": [
    "# Función para graficar los acordes de forma interactiva\n",
    "def plot_chords(v, chord_ids, experiment_data):\n",
    "    # Genera una lista de textos para mostrar cuando se pasa el cursor\n",
    "    hover_text = [f\"Chord ID: {chord_id}\\nChord Info: {experiment_data['results'][chord_id]['chord']}\" for chord_id in chord_ids]\n",
    "\n",
    "    # Crea el gráfico de dispersión\n",
    "    fig = go.Figure(data=go.Scatter(\n",
    "        x = v[:, 0],  # Componente 1\n",
    "        y = v[:, 1],  # Componente 2\n",
    "        mode='markers',  # Tipo de gráfico\n",
    "        text=hover_text,  # Texto para mostrar cuando se pasa el cursor\n",
    "        hoverinfo='text'  # Mostrar solo el texto en la información al pasar el cursor\n",
    "    ))\n",
    "\n",
    "    # Configura los ejes y el título\n",
    "    fig.update_layout(\n",
    "        title=\"Chord Representation (2D)\",\n",
    "        xaxis=dict(title=\"\"),\n",
    "        yaxis=dict(title=\"\"),\n",
    "    )\n",
    "\n",
    "    # Muestra el gráfico\n",
    "    fig.show()\n"
   ]
  },
  {
   "cell_type": "code",
   "execution_count": null,
   "metadata": {
    "id": "nt18xZAsQcc4"
   },
   "outputs": [],
   "source": [
    "def plot_chords_with_selection(v, chord_ids, experiment_data):\n",
    "    # Genera una lista de textos para mostrar cuando se pasa el cursor\n",
    "    hover_text = [f\"Chord ID: {chord_id}\\nChord Info: {experiment_data['results'][chord_id]['chord']}\" for chord_id in chord_ids]\n",
    "\n",
    "    # Crea el gráfico de dispersión inicial\n",
    "    scatter = go.Scatter(\n",
    "        x = v[:, 0],  # Componente 1\n",
    "        y = v[:, 1],  # Componente 2\n",
    "        mode='markers',  # Tipo de gráfico\n",
    "        text=hover_text,  # Texto para mostrar cuando se pasa el cursor\n",
    "        hoverinfo='text',  # Mostrar solo el texto en la información al pasar el cursor\n",
    "        marker=dict(color='gray', size=10)  # Ajustes iniciales\n",
    "    )\n",
    "\n",
    "    layout = go.Layout(\n",
    "        title=\"Chord Representation (2D)\",\n",
    "        xaxis=dict(title=\"\"),\n",
    "        yaxis=dict(title=\"\"),\n",
    "    )\n",
    "\n",
    "    fig = go.FigureWidget(data=[scatter], layout=layout)\n",
    "\n",
    "    # Función para actualizar el gráfico según la selección\n",
    "    def update_plot(change):\n",
    "        selected_chord_id = change['new']\n",
    "\n",
    "        # Reordenar datos para que el seleccionado esté al final\n",
    "        reordered_indices = [i for i, chord_id in enumerate(chord_ids) if chord_id != selected_chord_id] + [chord_ids.index(selected_chord_id)]\n",
    "        reordered_x = [v[i, 0] for i in reordered_indices]\n",
    "        reordered_y = [v[i, 1] for i in reordered_indices]\n",
    "        reordered_text = [hover_text[i] for i in reordered_indices]\n",
    "\n",
    "        colors = ['gray'] * len(chord_ids)\n",
    "        sizes = [10] * len(chord_ids)\n",
    "\n",
    "        # Ajustar color y tamaño del punto seleccionado\n",
    "        colors[-1] = 'red'\n",
    "        sizes[-1] = 15\n",
    "\n",
    "        with fig.batch_update():\n",
    "            fig.data[0].x = reordered_x\n",
    "            fig.data[0].y = reordered_y\n",
    "            fig.data[0].text = reordered_text\n",
    "            fig.data[0].marker.color = colors\n",
    "            fig.data[0].marker.size = sizes\n",
    "\n",
    "    # Crea una lista desplegable con los identificadores de los acordes\n",
    "    chord_selector = widgets.Dropdown(\n",
    "        options=chord_ids,\n",
    "        description='Chord ID:'\n",
    "    )\n",
    "\n",
    "    # Llama a update_plot cada vez que se cambia la selección\n",
    "    chord_selector.observe(update_plot, names='value')\n",
    "\n",
    "    # Muestra la lista desplegable y el gráfico\n",
    "    display(chord_selector)\n",
    "    display(fig)"
   ]
  },
  {
   "cell_type": "code",
   "execution_count": null,
   "metadata": {
    "colab": {
     "base_uri": "https://localhost:8080/"
    },
    "id": "IQnkhNZNQnqj",
    "outputId": "b501e198-9a88-44ac-9712-5a415511d683"
   },
   "outputs": [
    {
     "name": "stderr",
     "output_type": "stream",
     "text": [
      "/usr/local/lib/python3.10/dist-packages/sklearn/manifold/_mds.py:299: FutureWarning: The default value of `normalized_stress` will change to `'auto'` in version 1.4. To suppress this warning, manually set the value of `normalized_stress`.\n",
      "  warnings.warn(\n"
     ]
    }
   ],
   "source": [
    "# Realiza MDS en los datos\n",
    "vector_encoding_mds = perform_mds(vector_encoding)\n"
   ]
  },
  {
   "cell_type": "code",
   "execution_count": null,
   "metadata": {
    "id": "ezfjRHA3QtWj"
   },
   "outputs": [],
   "source": [
    "# Graficar los acordes\n",
    "#plot_chords(vector_encoding_mds, chord_ids, experiment_data)"
   ]
  },
  {
   "cell_type": "code",
   "execution_count": null,
   "metadata": {
    "id": "kOGygAVVZbLJ"
   },
   "outputs": [],
   "source": [
    "from google.colab import output\n",
    "output.enable_custom_widget_manager()"
   ]
  },
  {
   "cell_type": "markdown",
   "metadata": {
    "id": "xpYV3WLQZbLY"
   },
   "source": [
    "Support for third party widgets will remain active for the duration of the session. To disable support:"
   ]
  },
  {
   "cell_type": "code",
   "execution_count": null,
   "metadata": {
    "colab": {
     "base_uri": "https://localhost:8080/",
     "height": 426,
     "referenced_widgets": [
      "6c234dcdc72740e8acd3c9cd49b9b7de",
      "8113181ff06243be8f3cd1c0269c7d41",
      "65fa883940064148b5315e75b95f6df0",
      "e2f36b35e6e04cf1a46f62d3483d3a72"
     ]
    },
    "id": "EmL2Ln--QzME",
    "outputId": "97e3dfd5-5b8c-46f0-eff9-97a26c9f2dfb"
   },
   "outputs": [
    {
     "data": {
      "application/vnd.jupyter.widget-view+json": {
       "model_id": "6c234dcdc72740e8acd3c9cd49b9b7de",
       "version_major": 2,
       "version_minor": 0
      },
      "text/plain": [
       "Dropdown(description='Chord ID:', options=('chord_0', 'chord_1', 'chord_2', 'chord_3', 'chord_4', 'chord_5', '…"
      ]
     },
     "metadata": {
      "application/vnd.jupyter.widget-view+json": {
       "colab": {
        "custom_widget_manager": {
         "url": "https://ssl.gstatic.com/colaboratory-static/widgets/colab-cdn-widget-manager/2b70e893a8ba7c0f/manager.min.js"
        }
       }
      }
     },
     "output_type": "display_data"
    },
    {
     "data": {
      "application/vnd.jupyter.widget-view+json": {
       "model_id": "e2f36b35e6e04cf1a46f62d3483d3a72",
       "version_major": 2,
       "version_minor": 0
      },
      "text/plain": [
       "FigureWidget({\n",
       "    'data': [{'hoverinfo': 'text',\n",
       "              'marker': {'color': 'gray', 'size': 10},\n",
       "              'mode': 'markers',\n",
       "              'text': [Chord ID: chord_0 Chord Info: {'octave': 5, 'root': 0,\n",
       "                       'intervals': [4, 3]}, Chord ID: chord_1 Chord Info:\n",
       "                       {'octave': 5, 'root': 2, 'intervals': [3, 4]}, Chord ID:\n",
       "                       chord_2 Chord Info: {'octave': 5, 'root': 4, 'intervals':\n",
       "                       [3, 4]}, Chord ID: chord_3 Chord Info: {'octave': 5, 'root':\n",
       "                       5, 'intervals': [4, 3]}, Chord ID: chord_4 Chord Info:\n",
       "                       {'octave': 5, 'root': 7, 'intervals': [4, 3]}, Chord ID:\n",
       "                       chord_5 Chord Info: {'octave': 5, 'root': 9, 'intervals':\n",
       "                       [3, 4]}, Chord ID: chord_6 Chord Info: {'octave': 5, 'root':\n",
       "                       11, 'intervals': [3, 3]}],\n",
       "              'type': 'scatter',\n",
       "              'uid': '7945feda-b61f-413d-ad69-5dd93bb5a864',\n",
       "              'x': array([-4.60905133, -2.24046568, -0.33440254, -3.78027637, -1.85362819,\n",
       "                           6.62157031,  6.19625379]),\n",
       "              'y': array([ 3.57339383,  4.22847411,  5.96812758, -5.34299164, -6.37095193,\n",
       "                          -0.0078708 , -2.04818114])}],\n",
       "    'layout': {'template': '...',\n",
       "               'title': {'text': 'Chord Representation (2D)'},\n",
       "               'xaxis': {'title': {'text': ''}},\n",
       "               'yaxis': {'title': {'text': ''}}}\n",
       "})"
      ]
     },
     "metadata": {
      "application/vnd.jupyter.widget-view+json": {
       "colab": {
        "custom_widget_manager": {
         "url": "https://ssl.gstatic.com/colaboratory-static/widgets/colab-cdn-widget-manager/2b70e893a8ba7c0f/manager.min.js"
        }
       }
      }
     },
     "output_type": "display_data"
    },
    {
     "name": "stdout",
     "output_type": "stream",
     "text": [
      "[[0, 4, 7], [2, 5, 9], [4, 7, 11], [5, 9, 0], [7, 11, 2], [9, 0, 4], [11, 2, 5]]\n"
     ]
    }
   ],
   "source": [
    "# Graficar los acordes con la funcionalidad de selección\n",
    "plot_chords_with_selection(vector_encoding_mds, chord_ids, experiment_data)\n",
    "print(vector_encoding)"
   ]
  },
  {
   "cell_type": "code",
   "execution_count": null,
   "metadata": {
    "id": "f0Pq17WbZbLd"
   },
   "outputs": [],
   "source": [
    "from google.colab import output\n",
    "output.disable_custom_widget_manager()"
   ]
  }
 ],
 "metadata": {
  "colab": {
   "provenance": []
  },
  "kernelspec": {
   "display_name": "Python 3 (ipykernel)",
   "language": "python",
   "name": "python3"
  },
  "language_info": {
   "codemirror_mode": {
    "name": "ipython",
    "version": 3
   },
   "file_extension": ".py",
   "mimetype": "text/x-python",
   "name": "python",
   "nbconvert_exporter": "python",
   "pygments_lexer": "ipython3",
   "version": "3.8.18"
  },
  "widgets": {
   "application/vnd.jupyter.widget-state+json": {
    "02c4758596b742b6a91ed5d66f02769d": {
     "model_module": "@jupyter-widgets/controls",
     "model_module_version": "2.0.0",
     "model_name": "ButtonModel",
     "state": {
      "_dom_classes": [],
      "_model_module": "@jupyter-widgets/controls",
      "_model_module_version": "2.0.0",
      "_model_name": "ButtonModel",
      "_view_count": null,
      "_view_module": "@jupyter-widgets/controls",
      "_view_module_version": "2.0.0",
      "_view_name": "ButtonView",
      "button_style": "",
      "description": "Refrescar archivos",
      "disabled": false,
      "icon": "",
      "layout": "IPY_MODEL_ccfbcfa4900e4dc285f659072c710d87",
      "style": "IPY_MODEL_13ae636609e94d8f967c3949064c5cc6",
      "tabbable": null,
      "tooltip": null
     }
    },
    "03e8f319f4ee45b0bc895928e82460d5": {
     "model_module": "@jupyter-widgets/controls",
     "model_module_version": "2.0.0",
     "model_name": "DescriptionStyleModel",
     "state": {
      "_model_module": "@jupyter-widgets/controls",
      "_model_module_version": "2.0.0",
      "_model_name": "DescriptionStyleModel",
      "_view_count": null,
      "_view_module": "@jupyter-widgets/base",
      "_view_module_version": "2.0.0",
      "_view_name": "StyleView",
      "description_width": ""
     }
    },
    "13ae636609e94d8f967c3949064c5cc6": {
     "model_module": "@jupyter-widgets/controls",
     "model_module_version": "2.0.0",
     "model_name": "ButtonStyleModel",
     "state": {
      "_model_module": "@jupyter-widgets/controls",
      "_model_module_version": "2.0.0",
      "_model_name": "ButtonStyleModel",
      "_view_count": null,
      "_view_module": "@jupyter-widgets/base",
      "_view_module_version": "2.0.0",
      "_view_name": "StyleView",
      "button_color": null,
      "font_family": null,
      "font_size": null,
      "font_style": null,
      "font_variant": null,
      "font_weight": null,
      "text_color": null,
      "text_decoration": null
     }
    },
    "196be3d401ff4b82a001c11dbc2250eb": {
     "model_module": "@jupyter-widgets/base",
     "model_module_version": "2.0.0",
     "model_name": "LayoutModel",
     "state": {
      "_model_module": "@jupyter-widgets/base",
      "_model_module_version": "2.0.0",
      "_model_name": "LayoutModel",
      "_view_count": null,
      "_view_module": "@jupyter-widgets/base",
      "_view_module_version": "2.0.0",
      "_view_name": "LayoutView",
      "align_content": null,
      "align_items": null,
      "align_self": null,
      "border_bottom": null,
      "border_left": null,
      "border_right": null,
      "border_top": null,
      "bottom": null,
      "display": null,
      "flex": null,
      "flex_flow": null,
      "grid_area": null,
      "grid_auto_columns": null,
      "grid_auto_flow": null,
      "grid_auto_rows": null,
      "grid_column": null,
      "grid_gap": null,
      "grid_row": null,
      "grid_template_areas": null,
      "grid_template_columns": null,
      "grid_template_rows": null,
      "height": null,
      "justify_content": null,
      "justify_items": null,
      "left": null,
      "margin": null,
      "max_height": null,
      "max_width": null,
      "min_height": null,
      "min_width": null,
      "object_fit": null,
      "object_position": null,
      "order": null,
      "overflow": null,
      "padding": null,
      "right": null,
      "top": null,
      "visibility": null,
      "width": null
     }
    },
    "30feb51d1fdc42029cff1de942c133d7": {
     "model_module": "@jupyter-widgets/controls",
     "model_module_version": "2.0.0",
     "model_name": "ButtonStyleModel",
     "state": {
      "_model_module": "@jupyter-widgets/controls",
      "_model_module_version": "2.0.0",
      "_model_name": "ButtonStyleModel",
      "_view_count": null,
      "_view_module": "@jupyter-widgets/base",
      "_view_module_version": "2.0.0",
      "_view_name": "StyleView",
      "button_color": null,
      "font_family": null,
      "font_size": null,
      "font_style": null,
      "font_variant": null,
      "font_weight": null,
      "text_color": null,
      "text_decoration": null
     }
    },
    "4c6594afb5eb4dd6be8719610f431f18": {
     "model_module": "@jupyter-widgets/controls",
     "model_module_version": "2.0.0",
     "model_name": "DropdownModel",
     "state": {
      "_dom_classes": [],
      "_model_module": "@jupyter-widgets/controls",
      "_model_module_version": "2.0.0",
      "_model_name": "DropdownModel",
      "_options_labels": [
       "Experimento PC set - Escala Mayor - Octava 5 - Intervalos 2"
      ],
      "_view_count": null,
      "_view_module": "@jupyter-widgets/controls",
      "_view_module_version": "2.0.0",
      "_view_name": "DropdownView",
      "description": "Carpeta:",
      "description_allow_html": false,
      "disabled": false,
      "index": 0,
      "layout": "IPY_MODEL_db8d976dc70c42e6955e15373fab23d6",
      "style": "IPY_MODEL_03e8f319f4ee45b0bc895928e82460d5",
      "tabbable": null,
      "tooltip": null
     }
    },
    "65fa883940064148b5315e75b95f6df0": {
     "model_module": "@jupyter-widgets/controls",
     "model_module_version": "2.0.0",
     "model_name": "DescriptionStyleModel",
     "state": {
      "_model_module": "@jupyter-widgets/controls",
      "_model_module_version": "2.0.0",
      "_model_name": "DescriptionStyleModel",
      "_view_count": null,
      "_view_module": "@jupyter-widgets/base",
      "_view_module_version": "2.0.0",
      "_view_name": "StyleView",
      "description_width": ""
     }
    },
    "675ba928202a49f1a7500c249a2eda51": {
     "model_module": "@jupyter-widgets/controls",
     "model_module_version": "2.0.0",
     "model_name": "DropdownModel",
     "state": {
      "_dom_classes": [],
      "_model_module": "@jupyter-widgets/controls",
      "_model_module_version": "2.0.0",
      "_model_name": "DropdownModel",
      "_options_labels": [
       "experiment_data.pkl",
       "experiment_data_rahn_normal_order.pkl",
       "results_rahn_normal_order.pkl",
       "experiment_data_Experiment_pcset.pkl",
       "results_Experiment_pcset.pkl"
      ],
      "_view_count": null,
      "_view_module": "@jupyter-widgets/controls",
      "_view_module_version": "2.0.0",
      "_view_name": "DropdownView",
      "description": "Archivo:",
      "description_allow_html": false,
      "disabled": false,
      "index": 1,
      "layout": "IPY_MODEL_196be3d401ff4b82a001c11dbc2250eb",
      "style": "IPY_MODEL_a72ca08715f94fe0aefb23e0b1bd7511",
      "tabbable": null,
      "tooltip": null
     }
    },
    "6c234dcdc72740e8acd3c9cd49b9b7de": {
     "model_module": "@jupyter-widgets/controls",
     "model_module_version": "2.0.0",
     "model_name": "DropdownModel",
     "state": {
      "_dom_classes": [],
      "_model_module": "@jupyter-widgets/controls",
      "_model_module_version": "2.0.0",
      "_model_name": "DropdownModel",
      "_options_labels": [
       "chord_0",
       "chord_1",
       "chord_2",
       "chord_3",
       "chord_4",
       "chord_5",
       "chord_6"
      ],
      "_view_count": null,
      "_view_module": "@jupyter-widgets/controls",
      "_view_module_version": "2.0.0",
      "_view_name": "DropdownView",
      "description": "Chord ID:",
      "description_allow_html": false,
      "disabled": false,
      "index": 0,
      "layout": "IPY_MODEL_8113181ff06243be8f3cd1c0269c7d41",
      "style": "IPY_MODEL_65fa883940064148b5315e75b95f6df0",
      "tabbable": null,
      "tooltip": null
     }
    },
    "8113181ff06243be8f3cd1c0269c7d41": {
     "model_module": "@jupyter-widgets/base",
     "model_module_version": "2.0.0",
     "model_name": "LayoutModel",
     "state": {
      "_model_module": "@jupyter-widgets/base",
      "_model_module_version": "2.0.0",
      "_model_name": "LayoutModel",
      "_view_count": null,
      "_view_module": "@jupyter-widgets/base",
      "_view_module_version": "2.0.0",
      "_view_name": "LayoutView",
      "align_content": null,
      "align_items": null,
      "align_self": null,
      "border_bottom": null,
      "border_left": null,
      "border_right": null,
      "border_top": null,
      "bottom": null,
      "display": null,
      "flex": null,
      "flex_flow": null,
      "grid_area": null,
      "grid_auto_columns": null,
      "grid_auto_flow": null,
      "grid_auto_rows": null,
      "grid_column": null,
      "grid_gap": null,
      "grid_row": null,
      "grid_template_areas": null,
      "grid_template_columns": null,
      "grid_template_rows": null,
      "height": null,
      "justify_content": null,
      "justify_items": null,
      "left": null,
      "margin": null,
      "max_height": null,
      "max_width": null,
      "min_height": null,
      "min_width": null,
      "object_fit": null,
      "object_position": null,
      "order": null,
      "overflow": null,
      "padding": null,
      "right": null,
      "top": null,
      "visibility": null,
      "width": null
     }
    },
    "a72ca08715f94fe0aefb23e0b1bd7511": {
     "model_module": "@jupyter-widgets/controls",
     "model_module_version": "2.0.0",
     "model_name": "DescriptionStyleModel",
     "state": {
      "_model_module": "@jupyter-widgets/controls",
      "_model_module_version": "2.0.0",
      "_model_name": "DescriptionStyleModel",
      "_view_count": null,
      "_view_module": "@jupyter-widgets/base",
      "_view_module_version": "2.0.0",
      "_view_name": "StyleView",
      "description_width": ""
     }
    },
    "bc3865e6cde54e99be6709f1d7b6c7a5": {
     "model_module": "@jupyter-widgets/base",
     "model_module_version": "2.0.0",
     "model_name": "LayoutModel",
     "state": {
      "_model_module": "@jupyter-widgets/base",
      "_model_module_version": "2.0.0",
      "_model_name": "LayoutModel",
      "_view_count": null,
      "_view_module": "@jupyter-widgets/base",
      "_view_module_version": "2.0.0",
      "_view_name": "LayoutView",
      "align_content": null,
      "align_items": null,
      "align_self": null,
      "border_bottom": null,
      "border_left": null,
      "border_right": null,
      "border_top": null,
      "bottom": null,
      "display": null,
      "flex": null,
      "flex_flow": null,
      "grid_area": null,
      "grid_auto_columns": null,
      "grid_auto_flow": null,
      "grid_auto_rows": null,
      "grid_column": null,
      "grid_gap": null,
      "grid_row": null,
      "grid_template_areas": null,
      "grid_template_columns": null,
      "grid_template_rows": null,
      "height": null,
      "justify_content": null,
      "justify_items": null,
      "left": null,
      "margin": null,
      "max_height": null,
      "max_width": null,
      "min_height": null,
      "min_width": null,
      "object_fit": null,
      "object_position": null,
      "order": null,
      "overflow": null,
      "padding": null,
      "right": null,
      "top": null,
      "visibility": null,
      "width": null
     }
    },
    "ccfbcfa4900e4dc285f659072c710d87": {
     "model_module": "@jupyter-widgets/base",
     "model_module_version": "2.0.0",
     "model_name": "LayoutModel",
     "state": {
      "_model_module": "@jupyter-widgets/base",
      "_model_module_version": "2.0.0",
      "_model_name": "LayoutModel",
      "_view_count": null,
      "_view_module": "@jupyter-widgets/base",
      "_view_module_version": "2.0.0",
      "_view_name": "LayoutView",
      "align_content": null,
      "align_items": null,
      "align_self": null,
      "border_bottom": null,
      "border_left": null,
      "border_right": null,
      "border_top": null,
      "bottom": null,
      "display": null,
      "flex": null,
      "flex_flow": null,
      "grid_area": null,
      "grid_auto_columns": null,
      "grid_auto_flow": null,
      "grid_auto_rows": null,
      "grid_column": null,
      "grid_gap": null,
      "grid_row": null,
      "grid_template_areas": null,
      "grid_template_columns": null,
      "grid_template_rows": null,
      "height": null,
      "justify_content": null,
      "justify_items": null,
      "left": null,
      "margin": null,
      "max_height": null,
      "max_width": null,
      "min_height": null,
      "min_width": null,
      "object_fit": null,
      "object_position": null,
      "order": null,
      "overflow": null,
      "padding": null,
      "right": null,
      "top": null,
      "visibility": null,
      "width": null
     }
    },
    "db8d976dc70c42e6955e15373fab23d6": {
     "model_module": "@jupyter-widgets/base",
     "model_module_version": "2.0.0",
     "model_name": "LayoutModel",
     "state": {
      "_model_module": "@jupyter-widgets/base",
      "_model_module_version": "2.0.0",
      "_model_name": "LayoutModel",
      "_view_count": null,
      "_view_module": "@jupyter-widgets/base",
      "_view_module_version": "2.0.0",
      "_view_name": "LayoutView",
      "align_content": null,
      "align_items": null,
      "align_self": null,
      "border_bottom": null,
      "border_left": null,
      "border_right": null,
      "border_top": null,
      "bottom": null,
      "display": null,
      "flex": null,
      "flex_flow": null,
      "grid_area": null,
      "grid_auto_columns": null,
      "grid_auto_flow": null,
      "grid_auto_rows": null,
      "grid_column": null,
      "grid_gap": null,
      "grid_row": null,
      "grid_template_areas": null,
      "grid_template_columns": null,
      "grid_template_rows": null,
      "height": null,
      "justify_content": null,
      "justify_items": null,
      "left": null,
      "margin": null,
      "max_height": null,
      "max_width": null,
      "min_height": null,
      "min_width": null,
      "object_fit": null,
      "object_position": null,
      "order": null,
      "overflow": null,
      "padding": null,
      "right": null,
      "top": null,
      "visibility": null,
      "width": null
     }
    },
    "e2f36b35e6e04cf1a46f62d3483d3a72": {
     "model_module": "jupyterlab-plotly",
     "model_module_version": "^5.15.0",
     "model_name": "FigureModel",
     "state": {
      "_config": {
       "plotlyServerURL": "https://plot.ly"
      },
      "_data": [
       {
        "hoverinfo": "text",
        "marker": {
         "color": "gray",
         "size": 10
        },
        "mode": "markers",
        "text": [
         "Chord ID: chord_0\nChord Info: {'octave': 5, 'root': 0, 'intervals': [4, 3]}",
         "Chord ID: chord_1\nChord Info: {'octave': 5, 'root': 2, 'intervals': [3, 4]}",
         "Chord ID: chord_2\nChord Info: {'octave': 5, 'root': 4, 'intervals': [3, 4]}",
         "Chord ID: chord_3\nChord Info: {'octave': 5, 'root': 5, 'intervals': [4, 3]}",
         "Chord ID: chord_4\nChord Info: {'octave': 5, 'root': 7, 'intervals': [4, 3]}",
         "Chord ID: chord_5\nChord Info: {'octave': 5, 'root': 9, 'intervals': [3, 4]}",
         "Chord ID: chord_6\nChord Info: {'octave': 5, 'root': 11, 'intervals': [3, 3]}"
        ],
        "type": "scatter",
        "uid": "7945feda-b61f-413d-ad69-5dd93bb5a864",
        "x": {
         "dtype": "float64",
         "shape": [
          7
         ]
        },
        "y": {
         "dtype": "float64",
         "shape": [
          7
         ]
        }
       }
      ],
      "_dom_classes": [],
      "_js2py_layoutDelta": null,
      "_js2py_pointsCallback": {},
      "_js2py_relayout": null,
      "_js2py_restyle": {},
      "_js2py_traceDeltas": null,
      "_js2py_update": {},
      "_last_layout_edit_id": 1,
      "_last_trace_edit_id": 0,
      "_layout": {
       "title": {
        "text": "Chord Representation (2D)"
       },
       "xaxis": {
        "title": {
         "text": ""
        }
       },
       "yaxis": {
        "title": {
         "text": ""
        }
       }
      },
      "_model_module": "jupyterlab-plotly",
      "_model_module_version": "^5.15.0",
      "_model_name": "FigureModel",
      "_py2js_addTraces": {},
      "_py2js_animate": {},
      "_py2js_deleteTraces": {},
      "_py2js_moveTraces": {},
      "_py2js_relayout": null,
      "_py2js_removeLayoutProps": {},
      "_py2js_removeTraceProps": {},
      "_py2js_restyle": {},
      "_py2js_update": {},
      "_view_count": 1,
      "_view_module": "jupyterlab-plotly",
      "_view_module_version": "^5.15.0",
      "_view_name": "FigureView",
      "tabbable": null,
      "tooltip": null
     }
    },
    "e3b60f93b5234c858dffdfb5e74bf63a": {
     "model_module": "@jupyter-widgets/controls",
     "model_module_version": "2.0.0",
     "model_name": "ButtonModel",
     "state": {
      "_dom_classes": [],
      "_model_module": "@jupyter-widgets/controls",
      "_model_module_version": "2.0.0",
      "_model_name": "ButtonModel",
      "_view_count": null,
      "_view_module": "@jupyter-widgets/controls",
      "_view_module_version": "2.0.0",
      "_view_name": "ButtonView",
      "button_style": "",
      "description": "Cargar datos",
      "disabled": false,
      "icon": "",
      "layout": "IPY_MODEL_bc3865e6cde54e99be6709f1d7b6c7a5",
      "style": "IPY_MODEL_30feb51d1fdc42029cff1de942c133d7",
      "tabbable": null,
      "tooltip": null
     }
    }
   }
  }
 },
 "nbformat": 4,
 "nbformat_minor": 4
}
