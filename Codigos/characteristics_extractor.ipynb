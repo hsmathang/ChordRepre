{
 "cells": [
  {
   "cell_type": "code",
   "execution_count": 50,
   "metadata": {
    "colab": {
     "base_uri": "https://localhost:8080/"
    },
    "id": "AX5-ZLqXwBoK",
    "outputId": "79fdbd94-747e-46e8-a6ff-66fbe89a61e9"
   },
   "outputs": [
    {
     "name": "stdout",
     "output_type": "stream",
     "text": [
      "Requirement already satisfied: scikit-learn in /usr/local/lib/python3.10/dist-packages (1.2.2)\n",
      "Requirement already satisfied: numpy>=1.17.3 in /usr/local/lib/python3.10/dist-packages (from scikit-learn) (1.23.5)\n",
      "Requirement already satisfied: scipy>=1.3.2 in /usr/local/lib/python3.10/dist-packages (from scikit-learn) (1.11.4)\n",
      "Requirement already satisfied: joblib>=1.1.1 in /usr/local/lib/python3.10/dist-packages (from scikit-learn) (1.3.2)\n",
      "Requirement already satisfied: threadpoolctl>=2.0.0 in /usr/local/lib/python3.10/dist-packages (from scikit-learn) (3.2.0)\n",
      "Requirement already satisfied: ipywidgets in /usr/local/lib/python3.10/dist-packages (8.1.1)\n",
      "Requirement already satisfied: comm>=0.1.3 in /usr/local/lib/python3.10/dist-packages (from ipywidgets) (0.2.1)\n",
      "Requirement already satisfied: ipython>=6.1.0 in /usr/local/lib/python3.10/dist-packages (from ipywidgets) (7.34.0)\n",
      "Requirement already satisfied: traitlets>=4.3.1 in /usr/local/lib/python3.10/dist-packages (from ipywidgets) (5.7.1)\n",
      "Requirement already satisfied: widgetsnbextension~=4.0.9 in /usr/local/lib/python3.10/dist-packages (from ipywidgets) (4.0.9)\n",
      "Requirement already satisfied: jupyterlab-widgets~=3.0.9 in /usr/local/lib/python3.10/dist-packages (from ipywidgets) (3.0.9)\n",
      "Requirement already satisfied: setuptools>=18.5 in /usr/local/lib/python3.10/dist-packages (from ipython>=6.1.0->ipywidgets) (67.7.2)\n",
      "Requirement already satisfied: jedi>=0.16 in /usr/local/lib/python3.10/dist-packages (from ipython>=6.1.0->ipywidgets) (0.19.1)\n",
      "Requirement already satisfied: decorator in /usr/local/lib/python3.10/dist-packages (from ipython>=6.1.0->ipywidgets) (4.4.2)\n",
      "Requirement already satisfied: pickleshare in /usr/local/lib/python3.10/dist-packages (from ipython>=6.1.0->ipywidgets) (0.7.5)\n",
      "Requirement already satisfied: prompt-toolkit!=3.0.0,!=3.0.1,<3.1.0,>=2.0.0 in /usr/local/lib/python3.10/dist-packages (from ipython>=6.1.0->ipywidgets) (3.0.43)\n",
      "Requirement already satisfied: pygments in /usr/local/lib/python3.10/dist-packages (from ipython>=6.1.0->ipywidgets) (2.16.1)\n",
      "Requirement already satisfied: backcall in /usr/local/lib/python3.10/dist-packages (from ipython>=6.1.0->ipywidgets) (0.2.0)\n",
      "Requirement already satisfied: matplotlib-inline in /usr/local/lib/python3.10/dist-packages (from ipython>=6.1.0->ipywidgets) (0.1.6)\n",
      "Requirement already satisfied: pexpect>4.3 in /usr/local/lib/python3.10/dist-packages (from ipython>=6.1.0->ipywidgets) (4.9.0)\n",
      "Requirement already satisfied: parso<0.9.0,>=0.8.3 in /usr/local/lib/python3.10/dist-packages (from jedi>=0.16->ipython>=6.1.0->ipywidgets) (0.8.3)\n",
      "Requirement already satisfied: ptyprocess>=0.5 in /usr/local/lib/python3.10/dist-packages (from pexpect>4.3->ipython>=6.1.0->ipywidgets) (0.7.0)\n",
      "Requirement already satisfied: wcwidth in /usr/local/lib/python3.10/dist-packages (from prompt-toolkit!=3.0.0,!=3.0.1,<3.1.0,>=2.0.0->ipython>=6.1.0->ipywidgets) (0.2.13)\n"
     ]
    }
   ],
   "source": [
    "!pip install scikit-learn\n",
    "\n",
    "\n",
    "import pickle\n",
    "import json\n",
    "import matplotlib.pyplot as plt\n",
    "from sklearn.manifold import MDS\n",
    "\n",
    "import plotly.graph_objects as go\n",
    "\n",
    "!pip install ipywidgets --upgrade\n",
    "\n",
    "\n",
    "import os\n",
    "import ipywidgets as widgets\n",
    "from IPython.display import display"
   ]
  },
  {
   "cell_type": "code",
   "execution_count": 51,
   "metadata": {
    "colab": {
     "base_uri": "https://localhost:8080/"
    },
    "id": "d48bfdt1ezzI",
    "outputId": "7018c346-de56-4d10-f0e5-b61943bcc7df"
   },
   "outputs": [
    {
     "name": "stdout",
     "output_type": "stream",
     "text": [
      "La ruta especificada existe: /content/drive/MyDrive/2023/Trabajo de Grado/DATA\n",
      "Carpetas encontradas: ['Experimento PC set - Escala Mayor - Octava 5 - Intervalos 2']\n",
      "Archivos .pkl en la primera carpeta 'Experimento PC set - Escala Mayor - Octava 5 - Intervalos 2': ['experiment_data.pkl']\n"
     ]
    }
   ],
   "source": [
    "import os\n",
    "\n",
    "# Define la ruta base donde se encuentran tus archivos de experimento\n",
    "base_path = '/content/drive/MyDrive/2023/Trabajo de Grado/DATA'\n",
    "\n",
    "# Verifica si la ruta base existe\n",
    "if not os.path.exists(base_path):\n",
    "    print(f\"La ruta especificada no existe: {base_path}\")\n",
    "else:\n",
    "    print(f\"La ruta especificada existe: {base_path}\")\n",
    "\n",
    "    # Lista todas las carpetas y archivos en la ruta base\n",
    "    all_folders_and_files = os.listdir(base_path)\n",
    "\n",
    "    # Filtra para obtener solo carpetas\n",
    "    folders = [item for item in all_folders_and_files if os.path.isdir(os.path.join(base_path, item))]\n",
    "    print(\"Carpetas encontradas:\", folders)\n",
    "\n",
    "    # Si hay carpetas, selecciona la primera y lista los archivos .pkl dentro de ella\n",
    "    if folders:\n",
    "        first_folder_path = os.path.join(base_path, folders[0])\n",
    "        pkl_files = [file for file in os.listdir(first_folder_path) if file.endswith('.pkl')]\n",
    "        print(f\"Archivos .pkl en la primera carpeta '{folders[0]}':\", pkl_files)\n",
    "    else:\n",
    "        print(\"No se encontraron carpetas dentro de la ruta base.\")\n"
   ]
  },
  {
   "cell_type": "code",
   "execution_count": 52,
   "metadata": {
    "colab": {
     "base_uri": "https://localhost:8080/",
     "height": 145,
     "referenced_widgets": [
      "838ef5b3bf9245aabf09567cd585ad3b",
      "2cb4832c785249bab31c7e5550f35f35",
      "ebbe4e7aac3549b38d5c8025db5c960a",
      "719a2cca336d4f5d82fcc7aaf6231605",
      "7efd1413eeac433c902ec78ecb3459c9",
      "b7feb2941a1847f59cc95139cd151d62",
      "08db80a2159d4b9c8d592659cdddc085",
      "2e495255d2684c7a8523aecc2fc080ca",
      "b28aea68646c4b5aa4b2acc47f2a6f80",
      "bfc2da7b46f3448ba246854479b1319a",
      "c93131052d7846498755f70f7e3ae872",
      "a89b198330304a878ec94631e2f27f55"
     ]
    },
    "id": "YYGhnse2vgg0",
    "outputId": "e8d8e5d6-8e5a-460f-ea6d-42de56420546"
   },
   "outputs": [
    {
     "data": {
      "application/vnd.jupyter.widget-view+json": {
       "model_id": "838ef5b3bf9245aabf09567cd585ad3b",
       "version_major": 2,
       "version_minor": 0
      },
      "text/plain": [
       "Dropdown(description='Carpeta:', options=('Experimento PC set - Escala Mayor - Octava 5 - Intervalos 2',), val…"
      ]
     },
     "metadata": {},
     "output_type": "display_data"
    },
    {
     "data": {
      "application/vnd.jupyter.widget-view+json": {
       "model_id": "719a2cca336d4f5d82fcc7aaf6231605",
       "version_major": 2,
       "version_minor": 0
      },
      "text/plain": [
       "Button(description='Refrescar archivos', style=ButtonStyle())"
      ]
     },
     "metadata": {},
     "output_type": "display_data"
    },
    {
     "data": {
      "application/vnd.jupyter.widget-view+json": {
       "model_id": "08db80a2159d4b9c8d592659cdddc085",
       "version_major": 2,
       "version_minor": 0
      },
      "text/plain": [
       "Dropdown(description='Archivo:', disabled=True, options=(), value=None)"
      ]
     },
     "metadata": {},
     "output_type": "display_data"
    },
    {
     "data": {
      "application/vnd.jupyter.widget-view+json": {
       "model_id": "bfc2da7b46f3448ba246854479b1319a",
       "version_major": 2,
       "version_minor": 0
      },
      "text/plain": [
       "Button(description='Cargar datos', style=ButtonStyle())"
      ]
     },
     "metadata": {},
     "output_type": "display_data"
    }
   ],
   "source": [
    "import os\n",
    "import pickle\n",
    "import ipywidgets as widgets\n",
    "from IPython.display import display, clear_output\n",
    "\n",
    "# Definimos la ruta base\n",
    "base_path = '/content/drive/MyDrive/2023/Trabajo de Grado/DATA'\n",
    "global_loaded_data = {}\n",
    "def load_pkl_files(base_path):\n",
    "    if not os.path.exists(base_path):\n",
    "        print(f\"La ruta especificada no existe: {base_path}\")\n",
    "        return\n",
    "\n",
    "    # Obtenemos las carpetas dentro de la ruta base\n",
    "    folders = [folder for folder in os.listdir(base_path) if os.path.isdir(os.path.join(base_path, folder))]\n",
    "    folder_selector = widgets.Dropdown(\n",
    "        options=folders,\n",
    "        description='Carpeta:',\n",
    "        disabled=False,\n",
    "    )\n",
    "\n",
    "    # Dropdown para los archivos .pkl, inicialmente vacío\n",
    "    file_selector = widgets.Dropdown(\n",
    "        options=[],\n",
    "        description='Archivo:',\n",
    "        disabled=True,\n",
    "    )\n",
    "\n",
    "    # Botón para cargar el archivo seleccionado\n",
    "    load_button = widgets.Button(description=\"Cargar datos\")\n",
    "\n",
    "    # Botón para refrescar la lista de archivos después de seleccionar una carpeta\n",
    "    refresh_button = widgets.Button(description=\"Refrescar archivos\")\n",
    "\n",
    "    # Display widgets\n",
    "    display(folder_selector, refresh_button, file_selector, load_button)\n",
    "\n",
    "    # Función para actualizar la lista de archivos .pkl en la carpeta seleccionada\n",
    "    def on_refresh_button_clicked(b):\n",
    "        folder_path = os.path.join(base_path, folder_selector.value)\n",
    "        if os.path.exists(folder_path):\n",
    "            pkl_files = [f for f in os.listdir(folder_path) if f.endswith('.pkl')]\n",
    "            file_selector.options = pkl_files\n",
    "            file_selector.disabled = False if pkl_files else True\n",
    "        else:\n",
    "            print(f\"La carpeta seleccionada no existe: {folder_path}\")\n",
    "\n",
    "    refresh_button.on_click(on_refresh_button_clicked)\n",
    "\n",
    "    # Función para cargar los datos del archivo seleccionado\n",
    "    def on_load_button_clicked(b):\n",
    "        if folder_selector.value is None or file_selector.value is None:\n",
    "            print(\"Por favor, seleccione una carpeta y un archivo.\")\n",
    "            return experiment_data\n",
    "\n",
    "        file_path = os.path.join(base_path, folder_selector.value, file_selector.value)\n",
    "        try:\n",
    "            with open(file_path, 'rb') as f:\n",
    "                experiment_data = pickle.load(f)\n",
    "            global global_loaded_data\n",
    "            global_loaded_data['experiment_data'] = experiment_data\n",
    "            print(f\"Datos cargados desde {file_path}\")\n",
    "            #load_pkl_files.experiment_data = experiment_data\n",
    "        except Exception as e:\n",
    "            print(f\"Error al cargar el archivo: {e}\")\n",
    "\n",
    "    load_button.on_click(on_load_button_clicked)\n",
    "\n",
    "\n",
    "# Llamamos a la función para cargar archivos .pkl\n",
    "load_pkl_files(base_path)\n"
   ]
  },
  {
   "cell_type": "code",
   "execution_count": 53,
   "metadata": {
    "colab": {
     "base_uri": "https://localhost:8080/"
    },
    "id": "i2oBrE9xpa43",
    "outputId": "6332efbf-508f-410e-c635-df6875e59470"
   },
   "outputs": [
    {
     "name": "stdout",
     "output_type": "stream",
     "text": [
      "No se han cargado datos de experimentos aún.\n"
     ]
    }
   ],
   "source": [
    "# Acceso a los datos cargados\n",
    "if 'experiment_data' in global_loaded_data:\n",
    "    experiment_data = global_loaded_data['experiment_data']\n",
    "    chords = experiment_data['chords']\n",
    "    # Aquí puedes continuar usando los datos de chords como sea necesario\n",
    "else:\n",
    "    print(\"No se han cargado datos de experimentos aún.\")\n"
   ]
  },
  {
   "cell_type": "code",
   "execution_count": 54,
   "metadata": {
    "colab": {
     "base_uri": "https://localhost:8080/"
    },
    "id": "9SJh6w_ypfCQ",
    "outputId": "ae9db94c-65c4-4394-cb58-e3abd8dee558"
   },
   "outputs": [
    {
     "name": "stdout",
     "output_type": "stream",
     "text": [
      "{'octave': 5, 'root': 0, 'intervals': [4, 3]}\n"
     ]
    }
   ],
   "source": [
    "#un Archivo temporal para pruebas\n",
    "tmp=chords[0]\n",
    "\n",
    "\n",
    "print(tmp)"
   ]
  },
  {
   "cell_type": "code",
   "execution_count": 55,
   "metadata": {
    "id": "tv2HU-k9v5Kz"
   },
   "outputs": [],
   "source": [
    "import numpy as np  # Asegúrate de tener numpy importado para usar np.zeros y np.cumsum\n",
    "\n",
    "def intervals_extractor(chord):\n",
    "    # La función intervals_extractor recibe un acorde y extrae los intervalos entre sus notas.\n",
    "\n",
    "    # Calcula el número total de notas en el acorde.\n",
    "    # Se suma 1 a la longitud de los intervalos para incluir la nota raíz en el conteo.\n",
    "    n = len(chord['intervals']) + 1\n",
    "\n",
    "    # Crea una matriz de ceros con tamaño (n-1) x (n-1).\n",
    "    # Esta matriz será una matriz triangular superior que representará los intervalos entre las notas.\n",
    "    chormatrix = np.zeros((n-1, n-1))\n",
    "\n",
    "    # Calcula las posiciones absolutas de las notas en una escala.\n",
    "    # Comienza con la nota raíz (posición 0) y luego suma cada intervalo de forma acumulativa.\n",
    "    note_positions = [0] + list(np.cumsum(chord['intervals']))\n",
    "\n",
    "    # Llena la matriz con las distancias entre cada par de notas.\n",
    "    # Recorre solo la parte necesaria de la matriz para mejorar la eficiencia.\n",
    "    for i in range(n-1):\n",
    "        for j in range(i+1, n):\n",
    "            # La distancia entre dos notas se calcula como la diferencia absoluta de sus posiciones.\n",
    "            dist = abs(note_positions[i] - note_positions[j])\n",
    "\n",
    "            # Asigna esta distancia a la matriz en la posición correspondiente.\n",
    "            chormatrix[i, j-1] = dist\n",
    "\n",
    "    # Devuelve la matriz de intervalos completada.\n",
    "    return chormatrix\n"
   ]
  },
  {
   "cell_type": "code",
   "execution_count": 64,
   "metadata": {
    "id": "sUnJ4G9uwb8W"
   },
   "outputs": [],
   "source": [
    "\n",
    "intervals_extractor(tmp)\n",
    "\n",
    "chord_vectors = []  # Lista para almacenar los vectores generados"
   ]
  },
  {
   "cell_type": "code",
   "execution_count": 65,
   "metadata": {
    "colab": {
     "base_uri": "https://localhost:8080/"
    },
    "id": "0Sg_H5tFwey-",
    "outputId": "931773c9-66b0-43e8-e5c3-b286f0631148"
   },
   "outputs": [
    {
     "name": "stdout",
     "output_type": "stream",
     "text": [
      "[[4. 7.]\n",
      " [0. 3.]]\n",
      "[[3. 7.]\n",
      " [0. 4.]]\n",
      "[[3. 7.]\n",
      " [0. 4.]]\n",
      "[[4. 7.]\n",
      " [0. 3.]]\n",
      "[[4. 7.]\n",
      " [0. 3.]]\n",
      "[[3. 7.]\n",
      " [0. 4.]]\n",
      "[[3. 6.]\n",
      " [0. 3.]]\n"
     ]
    }
   ],
   "source": [
    "for chord in chords:\n",
    "    vector = intervals_extractor(chord)\n",
    "    chord_vectors.append(vector)\n",
    "\n",
    "# Imprime los vectores generados\n",
    "for vector in chord_vectors:\n",
    "    print(vector)"
   ]
  },
  {
   "cell_type": "code",
   "execution_count": 73,
   "metadata": {
    "id": "Kllk_BoIwt8Y"
   },
   "outputs": [],
   "source": [
    "def pitch_classes_extractor(chord,chord_id, repeat=False):\n",
    "    \"\"\"\n",
    "    Extrae las clases de tono de un acorde.\n",
    "\n",
    "    Parámetros:\n",
    "    - chord (dict): Un diccionario con las claves \"root\" e \"intervals\", donde \"root\" es la nota raíz y \"intervals\" es una lista de intervalos.\n",
    "    - repeat (bool): Si es True, mantiene las clases de tono repetidas. Si es False, elimina las clases de tono repetidas.\n",
    "\n",
    "    Retorna:\n",
    "    - Una lista de clases de tono.\n",
    "\n",
    "    Nota:\n",
    "    En la teoría de conjuntos de tono, generalmente se manejan conjuntos sin repeticiones. Sin embargo,\n",
    "    si se desea conservar las repeticiones para un análisis o aplicación específica, se puede hacerlo con el parámetro `repeat`.\n",
    "    \"\"\"\n",
    "    root = chord[\"root\"]\n",
    "    chord_pitches = [root]\n",
    "\n",
    "    for interval in chord[\"intervals\"]:\n",
    "        root += interval\n",
    "        root %= 12\n",
    "        chord_pitches.append(root)\n",
    "\n",
    "    if not repeat:\n",
    "        chord_pitches = list(set(chord_pitches))\n",
    "    feature_vector=chord_pitches\n",
    "    result = {\n",
    "        \"chord\": chord,\n",
    "        \"feature_vector\": feature_vector,\n",
    "        \"chord_id\": chord_id\n",
    "    }\n",
    "\n",
    "\n",
    "\n",
    "\n",
    "\n",
    "    return  result"
   ]
  },
  {
   "cell_type": "code",
   "execution_count": 74,
   "metadata": {
    "colab": {
     "base_uri": "https://localhost:8080/"
    },
    "id": "gz8RIahSwxA5",
    "outputId": "2ea59f01-f2fe-40c6-e861-2c6be8be6394"
   },
   "outputs": [
    {
     "name": "stdout",
     "output_type": "stream",
     "text": [
      "{'octave': 5, 'root': 4, 'intervals': [3, 4]}\n"
     ]
    },
    {
     "data": {
      "text/plain": [
       "{'chord': {'octave': 5, 'root': 0, 'intervals': [4, 3]},\n",
       " 'feature_vector': [0, 4, 7],\n",
       " 'chord_id': 0}"
      ]
     },
     "execution_count": 74,
     "metadata": {},
     "output_type": "execute_result"
    }
   ],
   "source": [
    "print(chords[2])\n",
    "\n",
    "pitch_classes_extractor(tmp,0)"
   ]
  },
  {
   "cell_type": "code",
   "execution_count": 80,
   "metadata": {
    "id": "x6HbpzQfw0cw"
   },
   "outputs": [],
   "source": [
    "def normal_form(pcs):\n",
    "    \"\"\"\n",
    "    Devuelve la forma normal de un conjunto de clases de tono.\n",
    "\n",
    "    La idea detrás de la forma normal es tomar un conjunto de clases de tono y transformarlo en una forma estándar,\n",
    "    es decir, una forma que representa todas las transposiciones e inversiones posibles del conjunto.\n",
    "    Esta es una técnica introducida por Allen Forte en su teoría de conjuntos de clases de tono.\n",
    "\n",
    "    Parámetros:\n",
    "    pcs (list): Lista de clases de tono (enteros del 0 al 11).\n",
    "\n",
    "    Retorna:\n",
    "    list: Forma normal del conjunto de clases de tono.\n",
    "    \"\"\"\n",
    "\n",
    "    # Ordena el conjunto y crea una lista para almacenar todas las rotaciones posibles\n",
    "    pcs = sorted(pcs)\n",
    "    all_rotations = [pcs]\n",
    "\n",
    "    # Genera todas las rotaciones del conjunto\n",
    "    for i in range(1, len(pcs)):\n",
    "        rotation = [(note + 12 - pcs[i]) % 12 for note in pcs]\n",
    "        all_rotations.append(sorted(rotation))\n",
    "\n",
    "    # Elige la rotación que esté \"más a la izquierda\"\n",
    "    return min(all_rotations, key=lambda x: tuple([(x[i] - x[i - 1]) % 12 for i in range(1, len(x))]))"
   ]
  },
  {
   "cell_type": "code",
   "execution_count": 81,
   "metadata": {
    "id": "tw-rNNJuw1SJ"
   },
   "outputs": [],
   "source": [
    "def interval_vector(pcs):\n",
    "    \"\"\"\n",
    "    Calcula el vector de intervalos para un conjunto de clases de tono.\n",
    "\n",
    "    El vector de intervalos es un histograma que cuenta la ocurrencia de cada intervalo posible (del 1 al 6) en un conjunto.\n",
    "    Es una herramienta útil para clasificar y comparar conjuntos en la teoría de Allen Forte.\n",
    "\n",
    "    Parámetros:\n",
    "    pcs (list): Lista de clases de tono (enteros del 0 al 11).\n",
    "\n",
    "    Retorna:\n",
    "    list: Vector de intervalos del conjunto de clases de tono.\n",
    "    \"\"\"\n",
    "\n",
    "    intervals = [0] * 6\n",
    "\n",
    "    # Cuenta cada intervalo en el conjunto\n",
    "    for i in range(len(pcs)):\n",
    "        for j in range(i + 1, len(pcs)):\n",
    "            interval = abs(pcs[j] - pcs[i]) % 12\n",
    "            if interval > 6:\n",
    "                interval = 12 - interval\n",
    "            intervals[interval - 1] += 1\n",
    "\n",
    "    return intervals"
   ]
  },
  {
   "cell_type": "code",
   "execution_count": 82,
   "metadata": {
    "id": "L8XqnLhxw7Qy"
   },
   "outputs": [],
   "source": [
    "def transpose_to_zero(pc_set):\n",
    "    \"\"\"Transpone un conjunto de clases de tono para que el primer elemento sea 0.\"\"\"\n",
    "    transposition = pc_set[0]\n",
    "    return [(pitch - transposition) % 12 for pitch in pc_set]\n",
    "\n",
    "def prime_form(pcs):\n",
    "    \"\"\"\n",
    "    Calculates the prime form of a pitch class set.\n",
    "\n",
    "    Parameters:\n",
    "    - pcs (list): A list containing the pitch classes of the set.\n",
    "\n",
    "    Returns:\n",
    "    - A list representing the prime form of the set.\n",
    "\n",
    "    Context:\n",
    "    Following Allen Forte's theory of pitch-class set, the prime form is the most compact representation of a set.\n",
    "    It's obtained by comparing the normal form of the original set and its inversion, and then selecting the most \"left-ward\" form.\n",
    "    \"\"\"\n",
    "    inverted_pcs = [(12 - pitch) % 12 for pitch in pcs]\n",
    "    inverted_normal_form = normal_form(inverted_pcs)\n",
    "\n",
    "    if tuple(inverted_normal_form) < tuple(pcs):\n",
    "        return inverted_normal_form\n",
    "\n",
    "    return pcs"
   ]
  },
  {
   "cell_type": "markdown",
   "metadata": {
    "id": "ECVRj3AYxLiM"
   },
   "source": [
    "#Representing Harmony in Computational Music Cognition\n",
    "\n",
    "Representaciones Propuestas:\n",
    "Categorías de Representación:\n",
    "\n",
    "##Acústicas:\n",
    " Caracterizan el sonido musical de manera que no depende de un oyente.\n",
    "##Sensoriales:\n",
    "Reflejan las imágenes perceptuales de los oyentes de estos sonidos.\n",
    "##Simbólicas:\n",
    " Descripciones concisas y legibles por humanos de los acordes musicales que idealmente tienen una base cognitiva sólida.\n",
    "Definiciones de \"Armonía\" y \"Acorde\":"
   ]
  },
  {
   "cell_type": "code",
   "execution_count": 91,
   "metadata": {
    "colab": {
     "base_uri": "https://localhost:8080/"
    },
    "id": "8aJ2kWSdxMs_",
    "outputId": "1d73ea99-7b4c-4f0f-92dc-a4c1448f9718"
   },
   "outputs": [
    {
     "name": "stdout",
     "output_type": "stream",
     "text": [
      "{'octave': 5, 'root': 0, 'intervals': [4, 3]}\n"
     ]
    },
    {
     "data": {
      "text/plain": [
       "{'chord': {'octave': 5, 'root': 0, 'intervals': [4, 3]},\n",
       " 'feature_vector': [0, 4, 7],\n",
       " 'chord_id': 0}"
      ]
     },
     "execution_count": 91,
     "metadata": {},
     "output_type": "execute_result"
    }
   ],
   "source": [
    "print(tmp)\n",
    "pitch_classes_extractor(tmp,0)"
   ]
  },
  {
   "cell_type": "code",
   "execution_count": 96,
   "metadata": {
    "id": "cBcu4wA4xPcd"
   },
   "outputs": [],
   "source": [
    "def rahn_normal_order(chord, chord_id):\n",
    "    # Obtenemos las clases de tono desde el diccionario devuelto por pitch_classes_extractor\n",
    "    pitch_class_set = pitch_classes_extractor(chord, chord_id)[\"feature_vector\"]\n",
    "\n",
    "    # Convertir el conjunto a un conjunto único para eliminar duplicados y luego a una lista para poder ordenarlo\n",
    "    pitch_class_set = sorted(list(set(pitch_class_set)))\n",
    "\n",
    "    # Enumerar todos los posibles ciclos del conjunto de clases de tono\n",
    "    cycles = [pitch_class_set[i:] + pitch_class_set[:i] for i in range(len(pitch_class_set))]\n",
    "\n",
    "    # Función para calcular la compactness de un ciclo\n",
    "    def compactness(cycle):\n",
    "        # Diferencia entre el último y el primer elemento, módulo 12\n",
    "        return (cycle[-1] - cycle[0]) % 12\n",
    "\n",
    "    # Función para aplicar criterios secundarios en caso de empates en compactness\n",
    "    def secondary_criteria(cycle):\n",
    "        # Itera desde el segundo hasta el último elemento para desempatar\n",
    "        for i in range(2, len(cycle) + 1):\n",
    "            yield (cycle[-i] - cycle[0]) % 12\n",
    "\n",
    "    # Seleccionar el ciclo más compacto, utilizando primero compactness y luego criterios secundarios\n",
    "    most_compact_cycle = min(cycles, key=lambda cycle: (compactness(cycle), *secondary_criteria(cycle)))\n",
    "\n",
    "    # Preparar y devolver el resultado\n",
    "    result = {\n",
    "        \"chord\": chord,\n",
    "        \"feature_vector\": most_compact_cycle,\n",
    "        \"chord_id\": chord_id\n",
    "    }\n",
    "    return result\n",
    "\n",
    "\n"
   ]
  },
  {
   "cell_type": "code",
   "execution_count": 97,
   "metadata": {
    "colab": {
     "base_uri": "https://localhost:8080/"
    },
    "id": "Y0Ci6lpPHSD8",
    "outputId": "933996f2-9ead-47cb-a52c-7a54bd1c5676"
   },
   "outputs": [
    {
     "name": "stdout",
     "output_type": "stream",
     "text": [
      "{'chord': {'octave': 5, 'root': 0, 'intervals': [4, 3]}, 'feature_vector': [0, 4, 7], 'chord_id': 0}\n"
     ]
    }
   ],
   "source": [
    "# Uso de la función\n",
    "rahn_normal_order_result = rahn_normal_order(tmp, 0)\n",
    "print(rahn_normal_order_result)"
   ]
  },
  {
   "cell_type": "code",
   "execution_count": 98,
   "metadata": {
    "colab": {
     "base_uri": "https://localhost:8080/"
    },
    "id": "PpzlDPWSxEAD",
    "outputId": "104dea38-17a8-4323-d5d3-92a284eb00df"
   },
   "outputs": [
    {
     "name": "stdout",
     "output_type": "stream",
     "text": [
      "[0, 3, 8] [0, 0, 1, 1, 1, 0] [0, 3, 7] {'chord': {'octave': 5, 'root': 0, 'intervals': [4, 3]}, 'feature_vector': [0, 4, 7], 'chord_id': 0}\n"
     ]
    }
   ],
   "source": [
    "extracted_data = pitch_classes_extractor(tmp,0)\n",
    "pitch_classes = extracted_data[\"feature_vector\"]\n",
    "\n",
    "# Ahora usa 'pitch_classes' en otras funciones\n",
    "nf = normal_form(pitch_classes)\n",
    "iv = interval_vector(pitch_classes)\n",
    "pf = prime_form(nf)\n",
    "rh = rahn_normal_order(tmp,0)\n",
    "print(nf, iv, pf,rh)"
   ]
  },
  {
   "cell_type": "code",
   "execution_count": 99,
   "metadata": {
    "colab": {
     "base_uri": "https://localhost:8080/"
    },
    "id": "Irs_d0PtxVuL",
    "outputId": "61961878-787c-408b-cf8d-98aab474413a"
   },
   "outputs": [
    {
     "data": {
      "text/plain": [
       "{'chord': {'octave': 5, 'root': 0, 'intervals': [4, 3]},\n",
       " 'feature_vector': [0, 4, 7],\n",
       " 'chord_id': 0}"
      ]
     },
     "execution_count": 99,
     "metadata": {},
     "output_type": "execute_result"
    }
   ],
   "source": [
    "rahn_normal_order(tmp,0)"
   ]
  },
  {
   "cell_type": "code",
   "execution_count": 102,
   "metadata": {
    "id": "7t0TdTMZxZPP"
   },
   "outputs": [],
   "source": [
    "def binary_pitch_class_set(chord, chord_id):\n",
    "    # Obtenemos las clases de tono desde el diccionario devuelto por pitch_classes_extractor\n",
    "    pitch_class_set = pitch_classes_extractor(chord, chord_id)[\"feature_vector\"]\n",
    "\n",
    "    # Representar como vector binario: 1 si la clase de tono está presente, 0 si no\n",
    "    binary_vector = [1 if i in pitch_class_set else 0 for i in range(12)]\n",
    "\n",
    "    # Preparar y devolver el resultado\n",
    "    result = {\n",
    "        \"chord\": chord,\n",
    "        \"feature_vector\": binary_vector,\n",
    "        \"chord_id\": chord_id\n",
    "    }\n",
    "    return result\n",
    "\n",
    "\n"
   ]
  },
  {
   "cell_type": "code",
   "execution_count": 103,
   "metadata": {
    "colab": {
     "base_uri": "https://localhost:8080/"
    },
    "id": "aXTmOuztxfE7",
    "outputId": "f529fa7c-b5b5-4f9b-f7a8-444bcdfaa0f2"
   },
   "outputs": [
    {
     "name": "stdout",
     "output_type": "stream",
     "text": [
      "{'chord': {'octave': 5, 'root': 0, 'intervals': [4, 3]}, 'feature_vector': [1, 0, 0, 0, 1, 0, 0, 1, 0, 0, 0, 0], 'chord_id': 0}\n"
     ]
    }
   ],
   "source": [
    "resultado=binary_pitch_class_set(tmp,0)\n",
    "#resultado[\"feature_vector\"]\n",
    "print(resultado)"
   ]
  },
  {
   "cell_type": "code",
   "execution_count": 117,
   "metadata": {
    "id": "tFtePrHoxifx"
   },
   "outputs": [],
   "source": [
    "def encode_pitch_class_set(chord, chord_id):\n",
    "    # Obtenemos las clases de tono desde el diccionario devuelto por pitch_classes_extractor\n",
    "    pitch_class_set = pitch_classes_extractor(chord, chord_id)[\"feature_vector\"]\n",
    "\n",
    "    # Paso 1: Representar como cadena binaria\n",
    "    binary_vector = ''.join(['1' if i in pitch_class_set else '0' for i in range(12)])\n",
    "\n",
    "    # Paso 2 y 3: Convertir la cadena binaria a un número entero (base-10)\n",
    "    feature_vector = int(binary_vector, 2)\n",
    "\n",
    "    # Preparar y devolver el resultado\n",
    "    result = {\n",
    "        \"chord\": chord,\n",
    "        \"feature_vector\": feature_vector,\n",
    "        \"chord_id\": chord_id\n",
    "    }\n",
    "    return result\n"
   ]
  },
  {
   "cell_type": "code",
   "execution_count": 120,
   "metadata": {
    "colab": {
     "base_uri": "https://localhost:8080/"
    },
    "id": "uueBurwDxpKY",
    "outputId": "d0c87418-2a66-4133-97a7-d466607fed4f"
   },
   "outputs": [
    {
     "data": {
      "text/plain": [
       "{'chord': {'octave': 5, 'root': 0, 'intervals': [4, 3]},\n",
       " 'feature_vector': 2192,\n",
       " 'chord_id': 0}"
      ]
     },
     "execution_count": 120,
     "metadata": {},
     "output_type": "execute_result"
    }
   ],
   "source": [
    "encode_pitch_class_set(tmp,0)"
   ]
  },
  {
   "cell_type": "code",
   "execution_count": 131,
   "metadata": {
    "colab": {
     "base_uri": "https://localhost:8080/"
    },
    "id": "9jv4fvqgxrdM",
    "outputId": "0baf04fc-c373-4b88-d202-35c162929c55"
   },
   "outputs": [
    {
     "data": {
      "text/plain": [
       "[1, 1025, 145]"
      ]
     },
     "execution_count": 131,
     "metadata": {},
     "output_type": "execute_result"
    }
   ],
   "source": [
    "def pitch_class_set_type(chord, chord_id):\n",
    "    normal_order = rahn_normal_order(chord, chord_id)[\"feature_vector\"]\n",
    "    transposition = (0 - normal_order[0]) % 12\n",
    "    transposed_set = {(pitch + transposition) % 12 for pitch in normal_order}\n",
    "    return transposed_set\n",
    "\n",
    "\n",
    "\n",
    "def encode_pitch_class_set_type():\n",
    "    types = []\n",
    "\n",
    "    for i in range(1, 4096):  # 2^12 = 4096, pero 0 no es un conjunto válido\n",
    "        binary_representation = bin(i)[2:].zfill(12)\n",
    "        pitch_class_set = {index for index, value in enumerate(binary_representation) if value == '1'}\n",
    "\n",
    "        # Construir un diccionario de acorde para cada conjunto\n",
    "        chord = {\"root\": 0, \"intervals\": list(pitch_class_set)}\n",
    "        current_type = pitch_class_set_type(chord, None)\n",
    "\n",
    "        if current_type not in types:\n",
    "            types.append(current_type)\n",
    "\n",
    "    return types\n",
    "\n",
    "\n",
    "\n",
    "\n",
    "# Probar la codificación con los primeros tipos\n",
    "pitch_class_set_types = encode_pitch_class_set_type()\n",
    "first_pitch_class_set_types = pitch_class_set_types[:4]\n",
    "first_pitch_class_set_types\n",
    "\n",
    "\n",
    "def encode_pitch_class_chord_type(pitch_class_chord):\n",
    "    pitch_class_chord = pitch_class_chord - {0}\n",
    "    binary_vector = ''.join(['1' if i in pitch_class_chord else '0' for i in range(1, 12)])\n",
    "    return int(binary_vector, 2) + 1\n",
    "\n",
    "\n",
    "\n",
    "# Probar la codificación con los ejemplos proporcionados\n",
    "examples_pitch_class_chord_type = [{0}, {0, 1}, {0, 4, 7}]\n",
    "encoded_chord_types = [encode_pitch_class_chord_type(example) for example in examples_pitch_class_chord_type]\n",
    "encoded_chord_types"
   ]
  },
  {
   "cell_type": "markdown",
   "metadata": {
    "id": "I27bOtjnx7SK"
   },
   "source": [
    "Hasta ahora se han extraido dos carateritiscas para cada acorde, su PC set y sus intervalos  desde aui deberiamos unificar esas caractaertisitcas para probar disitions vectores de carcterisiticas.\n"
   ]
  },
  {
   "cell_type": "code",
   "execution_count": 137,
   "metadata": {
    "id": "bHDLG3SXx8F9"
   },
   "outputs": [],
   "source": [
    "def generate_interval_histogram(chord):\n",
    "    # Extraemos la matriz de intervalos\n",
    "    intervals_matrix = intervals_extractor(chord)\n",
    "\n",
    "    # Aplanamos la matriz de intervalos y la convertimos a una lista\n",
    "    intervals_list = intervals_matrix.flatten().tolist()\n",
    "\n",
    "    # Creamos un histograma con 11dims para los intervalos\n",
    "    interval_histogram = [0] * 11\n",
    "    for interval in intervals_list:\n",
    "        if interval != 0:  # Excluimos la nota raíz\n",
    "            interval_histogram[int(interval) - 1] += 1\n",
    "\n",
    "    return interval_histogram\n",
    "\n",
    "\n",
    "\n",
    "\n",
    "\n",
    "\n",
    "\n",
    "\n",
    "def Experiment_pcset(chord, chord_id):\n",
    "\n",
    "\n",
    "    # Extraemos el conjunto PC y el histograma de intervalos\n",
    "    pc_set = pitch_classes_extractor(chord,chord_id)\n",
    "    interval_histogram = generate_interval_histogram(chord)\n",
    "\n",
    "    # Combinamos el conjunto PC y el histograma de intervalos en un solo vector de características\n",
    "    #feature_vector = pc_set + interval_histogram\n",
    "    feature_vector = pc_set\n",
    "\n",
    "    # Agregamos el chord_id al resultado\n",
    "    result = {\n",
    "        \"chord\": chord,\n",
    "        \"feature_vector\": feature_vector,\n",
    "        \"chord_id\": chord_id\n",
    "    }\n",
    "\n",
    "    return result\n",
    "\n",
    "\n",
    "\n",
    "\n",
    "\n"
   ]
  },
  {
   "cell_type": "code",
   "execution_count": 144,
   "metadata": {
    "colab": {
     "base_uri": "https://localhost:8080/"
    },
    "id": "vJOfyVmuS9Cu",
    "outputId": "788d1116-4c36-4564-ddd0-d04032bacd94"
   },
   "outputs": [
    {
     "name": "stdout",
     "output_type": "stream",
     "text": [
      "{'octave': 5, 'root': 0, 'intervals': [4, 3]}\n",
      "[0, 0, 1, 1, 0, 0, 1, 0, 0, 0, 0]\n",
      "[[4. 7.]\n",
      " [0. 3.]]\n",
      "{'chord': {'octave': 5, 'root': 0, 'intervals': [4, 3]}, 'feature_vector': [0, 4, 7], 'chord_id': 0}\n"
     ]
    },
    {
     "data": {
      "text/plain": [
       "[0, 0, 1, 1, 0, 0, 1, 0, 0, 0, 0]"
      ]
     },
     "execution_count": 144,
     "metadata": {},
     "output_type": "execute_result"
    }
   ],
   "source": [
    "print(tmp)\n",
    "histogram = generate_interval_histogram(tmp)\n",
    "\n",
    "print(histogram)\n",
    "print(intervals_extractor(tmp))\n",
    "print(pitch_classes_extractor(tmp,0))\n",
    "generate_interval_histogram(tmp)\n",
    "#feature_vector = Experiment_pcset(tmp,0)\n",
    "\n",
    "#print(feature_vector)"
   ]
  },
  {
   "cell_type": "code",
   "execution_count": 145,
   "metadata": {
    "colab": {
     "base_uri": "https://localhost:8080/"
    },
    "id": "y8fb5WimSvKE",
    "outputId": "5b940845-6916-425d-9953-09e00cf5f785"
   },
   "outputs": [
    {
     "data": {
      "text/plain": [
       "{'experiment_name': 'Experimento PC set - Escala Mayor',\n",
       " 'experiment_params': {'scale': {'name': 'Escala Mayor',\n",
       "   'root': 0,\n",
       "   'intervals': [0, 2, 4, 5, 7, 9, 11]},\n",
       "  'octaves': [5],\n",
       "  'sizes': [2],\n",
       "  'intervals': [2]},\n",
       " 'chords': [{'octave': 5, 'root': 0, 'intervals': [4, 3]},\n",
       "  {'octave': 5, 'root': 2, 'intervals': [3, 4]},\n",
       "  {'octave': 5, 'root': 4, 'intervals': [3, 4]},\n",
       "  {'octave': 5, 'root': 5, 'intervals': [4, 3]},\n",
       "  {'octave': 5, 'root': 7, 'intervals': [4, 3]},\n",
       "  {'octave': 5, 'root': 9, 'intervals': [3, 4]},\n",
       "  {'octave': 5, 'root': 11, 'intervals': [3, 3]}],\n",
       " 'results': {'chord_0': {'chord': {'octave': 5,\n",
       "    'root': 0,\n",
       "    'intervals': [4, 3]},\n",
       "   'feature_vector': [0, 4, 7],\n",
       "   'chord_id': 'chord_0'},\n",
       "  'chord_1': {'chord': {'octave': 5, 'root': 2, 'intervals': [3, 4]},\n",
       "   'feature_vector': [2, 5, 9],\n",
       "   'chord_id': 'chord_1'},\n",
       "  'chord_2': {'chord': {'octave': 5, 'root': 4, 'intervals': [3, 4]},\n",
       "   'feature_vector': [4, 7, 11],\n",
       "   'chord_id': 'chord_2'},\n",
       "  'chord_3': {'chord': {'octave': 5, 'root': 5, 'intervals': [4, 3]},\n",
       "   'feature_vector': [5, 9, 0],\n",
       "   'chord_id': 'chord_3'},\n",
       "  'chord_4': {'chord': {'octave': 5, 'root': 7, 'intervals': [4, 3]},\n",
       "   'feature_vector': [7, 11, 2],\n",
       "   'chord_id': 'chord_4'},\n",
       "  'chord_5': {'chord': {'octave': 5, 'root': 9, 'intervals': [3, 4]},\n",
       "   'feature_vector': [9, 0, 4],\n",
       "   'chord_id': 'chord_5'},\n",
       "  'chord_6': {'chord': {'octave': 5, 'root': 11, 'intervals': [3, 3]},\n",
       "   'feature_vector': [11, 2, 5],\n",
       "   'chord_id': 'chord_6'}}}"
      ]
     },
     "execution_count": 145,
     "metadata": {},
     "output_type": "execute_result"
    }
   ],
   "source": [
    "def process(chords, experiment_data, func=rahn_normal_order):\n",
    "    results = {}\n",
    "    for i, chord in enumerate(chords):\n",
    "        chord_id = f\"chord_{i}\"  # Generar un identificador único para el acorde\n",
    "        result = func(chord, chord_id)  # Llamamos a func en lugar de Experiment_pcset directamente\n",
    "        #print(result)\n",
    "        result['chord_id'] = chord_id  # Agregar el identificador único al resultado\n",
    "        results[chord_id] = result\n",
    "\n",
    "    # Actualizar el diccionario experiment_data con los resultados\n",
    "    experiment_data['results'] = results\n",
    "\n",
    "    # Definir la ruta del directorio y el archivo para guardar los datos\n",
    "    directory_path = os.path.join('/content/drive/MyDrive/2023/Trabajo de Grado/DATA/Experimento PC set - Escala Mayor - Octava 5 - Intervalos 2')\n",
    "    experiment_data_file = os.path.join(directory_path, 'experiment_data_'+func.__name__+'.pkl')\n",
    "    results_file = os.path.join(directory_path, 'results_'+func.__name__+'.pkl')\n",
    "\n",
    "    # Guardar el diccionario completo en un archivo pickle\n",
    "    with open(experiment_data_file, 'wb') as f:\n",
    "        pickle.dump(experiment_data, f)\n",
    "\n",
    "    # Guardar solo los resultados en un archivo pickle\n",
    "    with open(results_file, 'wb') as f:\n",
    "        pickle.dump(results, f)\n",
    "\n",
    "    return experiment_data\n",
    "\n",
    "\n",
    "process(chords, experiment_data)"
   ]
  }
 ],
 "metadata": {
  "colab": {
   "provenance": []
  },
  "kernelspec": {
   "display_name": "Python 3 (ipykernel)",
   "language": "python",
   "name": "python3"
  },
  "language_info": {
   "codemirror_mode": {
    "name": "ipython",
    "version": 3
   },
   "file_extension": ".py",
   "mimetype": "text/x-python",
   "name": "python",
   "nbconvert_exporter": "python",
   "pygments_lexer": "ipython3",
   "version": "3.8.18"
  },
  "widgets": {
   "application/vnd.jupyter.widget-state+json": {
    "08db80a2159d4b9c8d592659cdddc085": {
     "model_module": "@jupyter-widgets/controls",
     "model_module_version": "2.0.0",
     "model_name": "DropdownModel",
     "state": {
      "_dom_classes": [],
      "_model_module": "@jupyter-widgets/controls",
      "_model_module_version": "2.0.0",
      "_model_name": "DropdownModel",
      "_options_labels": [],
      "_view_count": null,
      "_view_module": "@jupyter-widgets/controls",
      "_view_module_version": "2.0.0",
      "_view_name": "DropdownView",
      "description": "Archivo:",
      "description_allow_html": false,
      "disabled": true,
      "index": null,
      "layout": "IPY_MODEL_2e495255d2684c7a8523aecc2fc080ca",
      "style": "IPY_MODEL_b28aea68646c4b5aa4b2acc47f2a6f80",
      "tabbable": null,
      "tooltip": null
     }
    },
    "2cb4832c785249bab31c7e5550f35f35": {
     "model_module": "@jupyter-widgets/base",
     "model_module_version": "2.0.0",
     "model_name": "LayoutModel",
     "state": {
      "_model_module": "@jupyter-widgets/base",
      "_model_module_version": "2.0.0",
      "_model_name": "LayoutModel",
      "_view_count": null,
      "_view_module": "@jupyter-widgets/base",
      "_view_module_version": "2.0.0",
      "_view_name": "LayoutView",
      "align_content": null,
      "align_items": null,
      "align_self": null,
      "border_bottom": null,
      "border_left": null,
      "border_right": null,
      "border_top": null,
      "bottom": null,
      "display": null,
      "flex": null,
      "flex_flow": null,
      "grid_area": null,
      "grid_auto_columns": null,
      "grid_auto_flow": null,
      "grid_auto_rows": null,
      "grid_column": null,
      "grid_gap": null,
      "grid_row": null,
      "grid_template_areas": null,
      "grid_template_columns": null,
      "grid_template_rows": null,
      "height": null,
      "justify_content": null,
      "justify_items": null,
      "left": null,
      "margin": null,
      "max_height": null,
      "max_width": null,
      "min_height": null,
      "min_width": null,
      "object_fit": null,
      "object_position": null,
      "order": null,
      "overflow": null,
      "padding": null,
      "right": null,
      "top": null,
      "visibility": null,
      "width": null
     }
    },
    "2e495255d2684c7a8523aecc2fc080ca": {
     "model_module": "@jupyter-widgets/base",
     "model_module_version": "2.0.0",
     "model_name": "LayoutModel",
     "state": {
      "_model_module": "@jupyter-widgets/base",
      "_model_module_version": "2.0.0",
      "_model_name": "LayoutModel",
      "_view_count": null,
      "_view_module": "@jupyter-widgets/base",
      "_view_module_version": "2.0.0",
      "_view_name": "LayoutView",
      "align_content": null,
      "align_items": null,
      "align_self": null,
      "border_bottom": null,
      "border_left": null,
      "border_right": null,
      "border_top": null,
      "bottom": null,
      "display": null,
      "flex": null,
      "flex_flow": null,
      "grid_area": null,
      "grid_auto_columns": null,
      "grid_auto_flow": null,
      "grid_auto_rows": null,
      "grid_column": null,
      "grid_gap": null,
      "grid_row": null,
      "grid_template_areas": null,
      "grid_template_columns": null,
      "grid_template_rows": null,
      "height": null,
      "justify_content": null,
      "justify_items": null,
      "left": null,
      "margin": null,
      "max_height": null,
      "max_width": null,
      "min_height": null,
      "min_width": null,
      "object_fit": null,
      "object_position": null,
      "order": null,
      "overflow": null,
      "padding": null,
      "right": null,
      "top": null,
      "visibility": null,
      "width": null
     }
    },
    "719a2cca336d4f5d82fcc7aaf6231605": {
     "model_module": "@jupyter-widgets/controls",
     "model_module_version": "2.0.0",
     "model_name": "ButtonModel",
     "state": {
      "_dom_classes": [],
      "_model_module": "@jupyter-widgets/controls",
      "_model_module_version": "2.0.0",
      "_model_name": "ButtonModel",
      "_view_count": null,
      "_view_module": "@jupyter-widgets/controls",
      "_view_module_version": "2.0.0",
      "_view_name": "ButtonView",
      "button_style": "",
      "description": "Refrescar archivos",
      "disabled": false,
      "icon": "",
      "layout": "IPY_MODEL_7efd1413eeac433c902ec78ecb3459c9",
      "style": "IPY_MODEL_b7feb2941a1847f59cc95139cd151d62",
      "tabbable": null,
      "tooltip": null
     }
    },
    "7efd1413eeac433c902ec78ecb3459c9": {
     "model_module": "@jupyter-widgets/base",
     "model_module_version": "2.0.0",
     "model_name": "LayoutModel",
     "state": {
      "_model_module": "@jupyter-widgets/base",
      "_model_module_version": "2.0.0",
      "_model_name": "LayoutModel",
      "_view_count": null,
      "_view_module": "@jupyter-widgets/base",
      "_view_module_version": "2.0.0",
      "_view_name": "LayoutView",
      "align_content": null,
      "align_items": null,
      "align_self": null,
      "border_bottom": null,
      "border_left": null,
      "border_right": null,
      "border_top": null,
      "bottom": null,
      "display": null,
      "flex": null,
      "flex_flow": null,
      "grid_area": null,
      "grid_auto_columns": null,
      "grid_auto_flow": null,
      "grid_auto_rows": null,
      "grid_column": null,
      "grid_gap": null,
      "grid_row": null,
      "grid_template_areas": null,
      "grid_template_columns": null,
      "grid_template_rows": null,
      "height": null,
      "justify_content": null,
      "justify_items": null,
      "left": null,
      "margin": null,
      "max_height": null,
      "max_width": null,
      "min_height": null,
      "min_width": null,
      "object_fit": null,
      "object_position": null,
      "order": null,
      "overflow": null,
      "padding": null,
      "right": null,
      "top": null,
      "visibility": null,
      "width": null
     }
    },
    "838ef5b3bf9245aabf09567cd585ad3b": {
     "model_module": "@jupyter-widgets/controls",
     "model_module_version": "2.0.0",
     "model_name": "DropdownModel",
     "state": {
      "_dom_classes": [],
      "_model_module": "@jupyter-widgets/controls",
      "_model_module_version": "2.0.0",
      "_model_name": "DropdownModel",
      "_options_labels": [
       "Experimento PC set - Escala Mayor - Octava 5 - Intervalos 2"
      ],
      "_view_count": null,
      "_view_module": "@jupyter-widgets/controls",
      "_view_module_version": "2.0.0",
      "_view_name": "DropdownView",
      "description": "Carpeta:",
      "description_allow_html": false,
      "disabled": false,
      "index": 0,
      "layout": "IPY_MODEL_2cb4832c785249bab31c7e5550f35f35",
      "style": "IPY_MODEL_ebbe4e7aac3549b38d5c8025db5c960a",
      "tabbable": null,
      "tooltip": null
     }
    },
    "a89b198330304a878ec94631e2f27f55": {
     "model_module": "@jupyter-widgets/controls",
     "model_module_version": "2.0.0",
     "model_name": "ButtonStyleModel",
     "state": {
      "_model_module": "@jupyter-widgets/controls",
      "_model_module_version": "2.0.0",
      "_model_name": "ButtonStyleModel",
      "_view_count": null,
      "_view_module": "@jupyter-widgets/base",
      "_view_module_version": "2.0.0",
      "_view_name": "StyleView",
      "button_color": null,
      "font_family": null,
      "font_size": null,
      "font_style": null,
      "font_variant": null,
      "font_weight": null,
      "text_color": null,
      "text_decoration": null
     }
    },
    "b28aea68646c4b5aa4b2acc47f2a6f80": {
     "model_module": "@jupyter-widgets/controls",
     "model_module_version": "2.0.0",
     "model_name": "DescriptionStyleModel",
     "state": {
      "_model_module": "@jupyter-widgets/controls",
      "_model_module_version": "2.0.0",
      "_model_name": "DescriptionStyleModel",
      "_view_count": null,
      "_view_module": "@jupyter-widgets/base",
      "_view_module_version": "2.0.0",
      "_view_name": "StyleView",
      "description_width": ""
     }
    },
    "b7feb2941a1847f59cc95139cd151d62": {
     "model_module": "@jupyter-widgets/controls",
     "model_module_version": "2.0.0",
     "model_name": "ButtonStyleModel",
     "state": {
      "_model_module": "@jupyter-widgets/controls",
      "_model_module_version": "2.0.0",
      "_model_name": "ButtonStyleModel",
      "_view_count": null,
      "_view_module": "@jupyter-widgets/base",
      "_view_module_version": "2.0.0",
      "_view_name": "StyleView",
      "button_color": null,
      "font_family": null,
      "font_size": null,
      "font_style": null,
      "font_variant": null,
      "font_weight": null,
      "text_color": null,
      "text_decoration": null
     }
    },
    "bfc2da7b46f3448ba246854479b1319a": {
     "model_module": "@jupyter-widgets/controls",
     "model_module_version": "2.0.0",
     "model_name": "ButtonModel",
     "state": {
      "_dom_classes": [],
      "_model_module": "@jupyter-widgets/controls",
      "_model_module_version": "2.0.0",
      "_model_name": "ButtonModel",
      "_view_count": null,
      "_view_module": "@jupyter-widgets/controls",
      "_view_module_version": "2.0.0",
      "_view_name": "ButtonView",
      "button_style": "",
      "description": "Cargar datos",
      "disabled": false,
      "icon": "",
      "layout": "IPY_MODEL_c93131052d7846498755f70f7e3ae872",
      "style": "IPY_MODEL_a89b198330304a878ec94631e2f27f55",
      "tabbable": null,
      "tooltip": null
     }
    },
    "c93131052d7846498755f70f7e3ae872": {
     "model_module": "@jupyter-widgets/base",
     "model_module_version": "2.0.0",
     "model_name": "LayoutModel",
     "state": {
      "_model_module": "@jupyter-widgets/base",
      "_model_module_version": "2.0.0",
      "_model_name": "LayoutModel",
      "_view_count": null,
      "_view_module": "@jupyter-widgets/base",
      "_view_module_version": "2.0.0",
      "_view_name": "LayoutView",
      "align_content": null,
      "align_items": null,
      "align_self": null,
      "border_bottom": null,
      "border_left": null,
      "border_right": null,
      "border_top": null,
      "bottom": null,
      "display": null,
      "flex": null,
      "flex_flow": null,
      "grid_area": null,
      "grid_auto_columns": null,
      "grid_auto_flow": null,
      "grid_auto_rows": null,
      "grid_column": null,
      "grid_gap": null,
      "grid_row": null,
      "grid_template_areas": null,
      "grid_template_columns": null,
      "grid_template_rows": null,
      "height": null,
      "justify_content": null,
      "justify_items": null,
      "left": null,
      "margin": null,
      "max_height": null,
      "max_width": null,
      "min_height": null,
      "min_width": null,
      "object_fit": null,
      "object_position": null,
      "order": null,
      "overflow": null,
      "padding": null,
      "right": null,
      "top": null,
      "visibility": null,
      "width": null
     }
    },
    "ebbe4e7aac3549b38d5c8025db5c960a": {
     "model_module": "@jupyter-widgets/controls",
     "model_module_version": "2.0.0",
     "model_name": "DescriptionStyleModel",
     "state": {
      "_model_module": "@jupyter-widgets/controls",
      "_model_module_version": "2.0.0",
      "_model_name": "DescriptionStyleModel",
      "_view_count": null,
      "_view_module": "@jupyter-widgets/base",
      "_view_module_version": "2.0.0",
      "_view_name": "StyleView",
      "description_width": ""
     }
    }
   }
  }
 },
 "nbformat": 4,
 "nbformat_minor": 4
}
