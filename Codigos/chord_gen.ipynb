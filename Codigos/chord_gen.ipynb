{
 "cells": [
  {
   "cell_type": "code",
   "execution_count": null,
   "metadata": {
    "id": "7UcwWqf4uXg6"
   },
   "outputs": [],
   "source": [
    "!pip install scikit-fuzzy\n",
    "!pip install autopep8\n",
    "import numpy as np\n",
    "from itertools import product\n",
    "import pickle\n",
    "import json\n",
    "import os"
   ]
  },
  {
   "cell_type": "code",
   "execution_count": null,
   "metadata": {
    "id": "MXEPNbz7u8ZB"
   },
   "outputs": [],
   "source": [
    "scales = [{\"name\": \"Escala Mayor\", \"root\": 0, \"intervals\": [0, 2, 4, 5, 7, 9, 11]},\n",
    "    {\"name\": \"Escala Menor \", \"root\": 0, \"intervals\": [0, 2, 3, 5, 7, 8, 10]},\n",
    "    {\"name\": \"Escala Pentatónica Mayor\", \"root\": 0, \"intervals\": [0, 2, 4, 7, 9]},\n",
    "    {\"name\": \"Escala Pentatónica Menor\", \"root\": 0, \"intervals\": [0, 3, 5, 7, 10]},\n",
    "    {\"name\": \"Escala Armónica Menor\", \"root\": 0, \"intervals\": [0, 2, 3, 5, 7, 8, 11]},\n",
    "    {\"name\": \"Escala Melódica Menor\", \"root\": 0, \"intervals\": [0, 2, 3, 5, 7, 9, 11]},\n",
    "    {\"name\": \"Escala Dórica\", \"root\": 0, \"intervals\": [0, 2, 3, 5, 7, 9, 10]},\n",
    "    {\"name\": \"Escala Frigia\", \"root\": 0, \"intervals\": [0, 1, 3, 5, 7, 8, 10]},\n",
    "    {\"name\": \"Escala lydia\", \"root\": 0, \"intervals\": [0, 2, 4, 6, 7, 9, 11]},\n",
    "    {\"name\": \"Escala Mixolidia\", \"root\": 0, \"intervals\": [0, 2, 4, 5, 7, 9, 10]},\n",
    "    {\"name\": \"Escala Locria\", \"root\": 0, \"intervals\": [0, 1, 3, 5, 6, 8, 10]},\n",
    "    {\"name\": \"Escala Alterada\", \"root\": 0, \"intervals\": [0, 1, 3, 4, 6, 8, 10, 11]}\n",
    "]"
   ]
  },
  {
   "cell_type": "code",
   "execution_count": null,
   "metadata": {
    "id": "WhSRVo2WvA0z"
   },
   "outputs": [],
   "source": [
    "def generate_chords(scale, octaves, sizes, intervals, max_population=-1):\n",
    "    \"\"\"\n",
    "    Genera una lista de acordes musicales.\n",
    "\n",
    "    Parámetros:\n",
    "    - scale: un diccionario que representa la escala musical. Debe contener 'intervals' y 'root'.\n",
    "    - octaves: una lista de octavas en las que se generarán los acordes.\n",
    "    - sizes: una lista de tamaños de acorde (número de notas en el acorde).\n",
    "    - intervals: una lista de intervalos musicales posibles para los acordes.\n",
    "    - max_population: número máximo de acordes a generar. Si es -1, no hay límite.\n",
    "\n",
    "    Retorna:\n",
    "    - Una lista de diccionarios, donde cada diccionario representa un acorde.\n",
    "    \"\"\"\n",
    "\n",
    "    chords = []  # Lista para almacenar los acordes generados\n",
    "\n",
    "    # Itera sobre cada octava proporcionada\n",
    "    for octave in octaves:\n",
    "        # Itera sobre cada nota de la escala\n",
    "        for index, note in enumerate(scale[\"intervals\"]):\n",
    "            # Itera sobre los tamaños de acorde dados\n",
    "            for size in sizes:\n",
    "                # Crea todas las combinaciones posibles de intervalos para el tamaño actual\n",
    "                for interval_permutation in product(intervals, repeat=size):\n",
    "                    # Construye el acorde inicial con su octava, nota raíz e intervalos\n",
    "                    chord = {\"octave\": octave, \"root\": scale[\"root\"] + note, \"intervals\": list(interval_permutation)}\n",
    "\n",
    "                    pos = index  # Posición actual en la escala\n",
    "                    # Actualiza los intervalos del acorde basándose en la escala\n",
    "                    for i, interval in enumerate(chord[\"intervals\"]):\n",
    "                        val = (pos + chord[\"intervals\"][i]) % len(scale[\"intervals\"])\n",
    "                        chord[\"intervals\"][i] = (scale[\"intervals\"][val] - scale[\"intervals\"][pos]) % 12\n",
    "                        pos = val\n",
    "\n",
    "                    # Añade el acorde a la lista de acordes\n",
    "                    chords.append(chord)\n",
    "\n",
    "                    # Si se alcanza la población máxima de acordes, termina el bucle\n",
    "                    if max_population > 0 and len(chords) == max_population:\n",
    "                        break\n",
    "\n",
    "    return chords  # Devuelve la lista de acordes generados"
   ]
  },
  {
   "cell_type": "code",
   "execution_count": null,
   "metadata": {
    "colab": {
     "base_uri": "https://localhost:8080/"
    },
    "id": "Quzlc1bLvNxl",
    "outputId": "fdb9f25c-c323-4476-fde6-5acd90b41f42"
   },
   "outputs": [
    {
     "name": "stdout",
     "output_type": "stream",
     "text": [
      "{'octave': 5, 'root': 0, 'intervals': [4, 3]}\n",
      "{'octave': 5, 'root': 2, 'intervals': [3, 4]}\n",
      "{'octave': 5, 'root': 4, 'intervals': [3, 4]}\n",
      "{'octave': 5, 'root': 5, 'intervals': [4, 3]}\n",
      "{'octave': 5, 'root': 7, 'intervals': [4, 3]}\n",
      "{'octave': 5, 'root': 9, 'intervals': [3, 4]}\n",
      "{'octave': 5, 'root': 11, 'intervals': [3, 3]}\n"
     ]
    }
   ],
   "source": [
    "selected_scale = scales[0]  # fijar la escala de generacion\n",
    "\n",
    "chords = generate_chords(selected_scale, [5], [2], [2], -1)  # Genera hasta 3 acordes de longitud 2 con intervalos de 2 o 3 saltos en la escala\n",
    "\n",
    "for chord in chords:\n",
    "    print(chord)"
   ]
  },
  {
   "cell_type": "code",
   "execution_count": null,
   "metadata": {
    "id": "y4VK73JovUDk"
   },
   "outputs": [],
   "source": [
    "def create_experiment_data(scale, octaves, sizes, intervals, chords):\n",
    "    \"\"\"\n",
    "    Crea un diccionario con los datos de un experimento musical.\n",
    "\n",
    "    Parámetros:\n",
    "    scale: Diccionario que representa la escala musical.\n",
    "    octaves: Lista de octavas para generar acordes.\n",
    "    sizes: Lista de tamaños de los acordes.\n",
    "    intervals: Lista de intervalos para los acordes.\n",
    "    chords: Lista de acordes generados.\n",
    "\n",
    "    Retorna:\n",
    "    Diccionario con los datos del experimento.\n",
    "    \"\"\"\n",
    "    # Aquí podrías añadir validaciones para los parámetros\n",
    "\n",
    "    experiment_name = f'Experimento PC set - {scale[\"name\"]}'\n",
    "    return {\n",
    "        'experiment_name': experiment_name,\n",
    "        'experiment_params': {\n",
    "            'scale': scale,\n",
    "            'octaves': octaves,\n",
    "            'sizes': sizes,\n",
    "            'intervals': intervals\n",
    "        },\n",
    "        'chords': chords\n",
    "    }\n",
    "\n",
    "# Uso de la función\n",
    "experiment_data = create_experiment_data(selected_scale, [5], [2], [2], chords)\n"
   ]
  },
  {
   "cell_type": "code",
   "execution_count": null,
   "metadata": {
    "id": "diSSNRdpvXm9"
   },
   "outputs": [],
   "source": [
    "# Asegurarse de que los datos del experimento están presentes\n",
    "if 'experiment_name' in experiment_data and 'experiment_params' in experiment_data:\n",
    "    # Extraer los parámetros necesarios del diccionario de datos del experimento\n",
    "    experiment_name = experiment_data['experiment_name']\n",
    "    octaves = experiment_data['experiment_params']['octaves']\n",
    "    intervals = experiment_data['experiment_params']['intervals']\n",
    "\n",
    "    # Crear el nombre de la carpeta basado en los detalles del experimento\n",
    "    folder_name = f'{experiment_name} - Octava {octaves[0]} - Intervalos {intervals[0]}'\n",
    "\n",
    "    # Construir la ruta completa de la carpeta\n",
    "    folder_path = os.path.join('/content/drive/MyDrive/2023/Trabajo de Grado/DATA', folder_name)\n",
    "else:\n",
    "    raise ValueError(\"Los datos del experimento no están completos o son incorrectos\")\n",
    "\n",
    "# Aquí puedes continuar con el código para usar 'folder_path', por ejemplo, para guardar datos\n"
   ]
  },
  {
   "cell_type": "code",
   "execution_count": null,
   "metadata": {
    "id": "NnG-ZpjzvYz_"
   },
   "outputs": [],
   "source": [
    "# Asumiendo que 'folder_path' ya ha sido definido previamente\n",
    "\n",
    "# Crear la carpeta si no existe\n",
    "try:\n",
    "    if not os.path.exists(folder_path):\n",
    "        os.makedirs(folder_path)\n",
    "    # Nota: os.makedirs ya verifica si la carpeta existe antes de crearla,\n",
    "    # pero esta comprobación adicional permite manejar la lógica de forma más explícita\n",
    "except Exception as e:\n",
    "    # Manejar cualquier excepción que pueda surgir al crear la carpeta\n",
    "    print(f\"Error al crear la carpeta: {e}\")\n",
    "    # Aquí podrías decidir si lanzar la excepción o manejarla de otra manera\n",
    "\n",
    "# Guardar los datos del experimento en un archivo pickle dentro de la nueva carpeta\n",
    "try:\n",
    "    with open(os.path.join(folder_path, 'experiment_data.pkl'), 'wb') as f:\n",
    "        pickle.dump(experiment_data, f)\n",
    "except Exception as e:\n",
    "    # Manejar cualquier excepción que pueda surgir al guardar los datos\n",
    "    print(f\"Error al guardar los datos del experimento: {e}\")\n"
   ]
  }
 ],
 "metadata": {
  "colab": {
   "provenance": []
  },
  "kernelspec": {
   "display_name": "Python 3 (ipykernel)",
   "language": "python",
   "name": "python3"
  },
  "language_info": {
   "codemirror_mode": {
    "name": "ipython",
    "version": 3
   },
   "file_extension": ".py",
   "mimetype": "text/x-python",
   "name": "python",
   "nbconvert_exporter": "python",
   "pygments_lexer": "ipython3",
   "version": "3.8.18"
  }
 },
 "nbformat": 4,
 "nbformat_minor": 4
}
